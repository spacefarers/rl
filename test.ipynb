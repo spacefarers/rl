{
 "cells": [
  {
   "cell_type": "code",
   "execution_count": 1,
   "metadata": {},
   "outputs": [],
   "source": [
    "import gymnasium as gym\n",
    "import numpy as np\n",
    "\n",
    "class rabbitProblem(gym.Env):\n",
    "    def __init__(self,config=None):\n",
    "        self.current_steps = 0\n",
    "        self.grid_size = 4\n",
    "        self.action_space = gym.spaces.Discrete(5)\n",
    "        self.observation_space = gym.spaces.Discrete(2)\n",
    "        self.seed()\n",
    "        self.reset()\n",
    "\n",
    "    def seed(self, seed=None):\n",
    "        self.np_random, seed = gym.utils.seeding.np_random(seed)\n",
    "        return [seed]\n",
    "    \n",
    "    def reset(self, *, seed=None, options=None):\n",
    "        self._max_episode_steps = 1000\n",
    "        self.current_steps = 0\n",
    "        self.rabbit_pos = 2\n",
    "        return 0,{}\n",
    "    \n",
    "    def step(self,action):\n",
    "        self.current_steps+=1\n",
    "        possible_pos = []\n",
    "        if self.rabbit_pos-1>=0:\n",
    "            possible_pos.append(self.rabbit_pos-1)\n",
    "        if self.rabbit_pos+1<5:\n",
    "            possible_pos.append(self.rabbit_pos+1)\n",
    "        next_pos=possible_pos[0]\n",
    "        if next_pos==action and len(possible_pos)>1:\n",
    "            next_pos=possible_pos[1]\n",
    "        self.rabbit_pos=next_pos\n",
    "        return 1 if next_pos==action else 0,(1 if next_pos==action else 0)-0.1,next_pos==action or self.current_steps>self._max_episode_steps,False,{}\n",
    "        \n"
   ]
  },
  {
   "cell_type": "code",
   "execution_count": 2,
   "metadata": {},
   "outputs": [],
   "source": [
    "env = rabbitProblem()"
   ]
  },
  {
   "cell_type": "code",
   "execution_count": 3,
   "metadata": {},
   "outputs": [
    {
     "data": {
      "text/plain": [
       "(0, -0.1, False, False, {})"
      ]
     },
     "execution_count": 3,
     "metadata": {},
     "output_type": "execute_result"
    }
   ],
   "source": [
    "env.step(1)"
   ]
  },
  {
   "cell_type": "code",
   "execution_count": 4,
   "metadata": {},
   "outputs": [
    {
     "name": "stderr",
     "output_type": "stream",
     "text": [
      "2023-09-16 14:13:21,475\tINFO util.py:159 -- Missing packages: ['ipywidgets']. Run `pip install -U ipywidgets`, then restart the notebook server for rich notebook output.\n",
      "2023-09-16 14:13:21,732\tINFO util.py:159 -- Missing packages: ['ipywidgets']. Run `pip install -U ipywidgets`, then restart the notebook server for rich notebook output.\n"
     ]
    }
   ],
   "source": [
    "from ray.tune.registry import register_env\n",
    "register_env(\"rp\", rabbitProblem)"
   ]
  },
  {
   "cell_type": "code",
   "execution_count": 5,
   "metadata": {},
   "outputs": [
    {
     "data": {
      "text/html": [],
      "text/plain": [
       "<IPython.core.display.HTML object>"
      ]
     },
     "metadata": {},
     "output_type": "display_data"
    },
    {
     "name": "stderr",
     "output_type": "stream",
     "text": [
      "2023-09-16 14:13:27,167\tWARNING algorithm_config.py:2558 -- Setting `exploration_config={}` because you set `_enable_rl_module_api=True`. When RLModule API are enabled, exploration_config can not be set. If you want to implement custom exploration behaviour, please modify the `forward_exploration` method of the RLModule at hand. On configs that have a default exploration config, this must be done with `config.exploration_config={}`.\n"
     ]
    },
    {
     "ename": "ImportError",
     "evalue": "PyTorch was specified as the framework to use (via `config.framework('torch')`)! However, no installation was found. You can install PyTorch via `pip install torch`.",
     "output_type": "error",
     "traceback": [
      "\u001b[0;31m---------------------------------------------------------------------------\u001b[0m",
      "\u001b[0;31mImportError\u001b[0m                               Traceback (most recent call last)",
      "Cell \u001b[0;32mIn[5], line 15\u001b[0m\n\u001b[1;32m      5\u001b[0m ray\u001b[38;5;241m.\u001b[39minit(ignore_reinit_error\u001b[38;5;241m=\u001b[39m\u001b[38;5;28;01mTrue\u001b[39;00m, log_to_driver\u001b[38;5;241m=\u001b[39m\u001b[38;5;28;01mFalse\u001b[39;00m)\n\u001b[1;32m      6\u001b[0m tuner \u001b[38;5;241m=\u001b[39m tune\u001b[38;5;241m.\u001b[39mTuner(\n\u001b[1;32m      7\u001b[0m     \u001b[38;5;124m\"\u001b[39m\u001b[38;5;124mPPO\u001b[39m\u001b[38;5;124m\"\u001b[39m,\n\u001b[1;32m      8\u001b[0m     param_space\u001b[38;5;241m=\u001b[39m{\n\u001b[0;32m   (...)\u001b[0m\n\u001b[1;32m     13\u001b[0m     run_config\u001b[38;5;241m=\u001b[39mair\u001b[38;5;241m.\u001b[39mRunConfig(stop\u001b[38;5;241m=\u001b[39mstopping_criterion)\n\u001b[1;32m     14\u001b[0m )\n\u001b[0;32m---> 15\u001b[0m results \u001b[38;5;241m=\u001b[39m \u001b[43mtuner\u001b[49m\u001b[38;5;241;43m.\u001b[39;49m\u001b[43mfit\u001b[49m\u001b[43m(\u001b[49m\u001b[43m)\u001b[49m\n",
      "File \u001b[0;32m~/anaconda3/envs/rl/lib/python3.11/site-packages/ray/tune/tuner.py:347\u001b[0m, in \u001b[0;36mTuner.fit\u001b[0;34m(self)\u001b[0m\n\u001b[1;32m    345\u001b[0m \u001b[38;5;28;01mif\u001b[39;00m \u001b[38;5;129;01mnot\u001b[39;00m \u001b[38;5;28mself\u001b[39m\u001b[38;5;241m.\u001b[39m_is_ray_client:\n\u001b[1;32m    346\u001b[0m     \u001b[38;5;28;01mtry\u001b[39;00m:\n\u001b[0;32m--> 347\u001b[0m         \u001b[38;5;28;01mreturn\u001b[39;00m \u001b[38;5;28;43mself\u001b[39;49m\u001b[38;5;241;43m.\u001b[39;49m\u001b[43m_local_tuner\u001b[49m\u001b[38;5;241;43m.\u001b[39;49m\u001b[43mfit\u001b[49m\u001b[43m(\u001b[49m\u001b[43m)\u001b[49m\n\u001b[1;32m    348\u001b[0m     \u001b[38;5;28;01mexcept\u001b[39;00m TuneError \u001b[38;5;28;01mas\u001b[39;00m e:\n\u001b[1;32m    349\u001b[0m         \u001b[38;5;28;01mraise\u001b[39;00m TuneError(\n\u001b[1;32m    350\u001b[0m             _TUNER_FAILED_MSG\u001b[38;5;241m.\u001b[39mformat(\n\u001b[1;32m    351\u001b[0m                 path\u001b[38;5;241m=\u001b[39m\u001b[38;5;28mself\u001b[39m\u001b[38;5;241m.\u001b[39m_local_tuner\u001b[38;5;241m.\u001b[39mget_experiment_checkpoint_dir()\n\u001b[1;32m    352\u001b[0m             )\n\u001b[1;32m    353\u001b[0m         ) \u001b[38;5;28;01mfrom\u001b[39;00m \u001b[38;5;21;01me\u001b[39;00m\n",
      "File \u001b[0;32m~/anaconda3/envs/rl/lib/python3.11/site-packages/ray/tune/impl/tuner_internal.py:588\u001b[0m, in \u001b[0;36mTunerInternal.fit\u001b[0;34m(self)\u001b[0m\n\u001b[1;32m    586\u001b[0m param_space \u001b[38;5;241m=\u001b[39m copy\u001b[38;5;241m.\u001b[39mdeepcopy(\u001b[38;5;28mself\u001b[39m\u001b[38;5;241m.\u001b[39mparam_space)\n\u001b[1;32m    587\u001b[0m \u001b[38;5;28;01mif\u001b[39;00m \u001b[38;5;129;01mnot\u001b[39;00m \u001b[38;5;28mself\u001b[39m\u001b[38;5;241m.\u001b[39m_is_restored:\n\u001b[0;32m--> 588\u001b[0m     analysis \u001b[38;5;241m=\u001b[39m \u001b[38;5;28;43mself\u001b[39;49m\u001b[38;5;241;43m.\u001b[39;49m\u001b[43m_fit_internal\u001b[49m\u001b[43m(\u001b[49m\u001b[43mtrainable\u001b[49m\u001b[43m,\u001b[49m\u001b[43m \u001b[49m\u001b[43mparam_space\u001b[49m\u001b[43m)\u001b[49m\n\u001b[1;32m    589\u001b[0m \u001b[38;5;28;01melse\u001b[39;00m:\n\u001b[1;32m    590\u001b[0m     analysis \u001b[38;5;241m=\u001b[39m \u001b[38;5;28mself\u001b[39m\u001b[38;5;241m.\u001b[39m_fit_resume(trainable, param_space)\n",
      "File \u001b[0;32m~/anaconda3/envs/rl/lib/python3.11/site-packages/ray/tune/impl/tuner_internal.py:703\u001b[0m, in \u001b[0;36mTunerInternal._fit_internal\u001b[0;34m(self, trainable, param_space)\u001b[0m\n\u001b[1;32m    689\u001b[0m \u001b[38;5;250m\u001b[39m\u001b[38;5;124;03m\"\"\"Fitting for a fresh Tuner.\"\"\"\u001b[39;00m\n\u001b[1;32m    690\u001b[0m args \u001b[38;5;241m=\u001b[39m {\n\u001b[1;32m    691\u001b[0m     \u001b[38;5;241m*\u001b[39m\u001b[38;5;241m*\u001b[39m\u001b[38;5;28mself\u001b[39m\u001b[38;5;241m.\u001b[39m_get_tune_run_arguments(trainable),\n\u001b[1;32m    692\u001b[0m     \u001b[38;5;241m*\u001b[39m\u001b[38;5;241m*\u001b[39m\u001b[38;5;28mdict\u001b[39m(\n\u001b[0;32m   (...)\u001b[0m\n\u001b[1;32m    701\u001b[0m     \u001b[38;5;241m*\u001b[39m\u001b[38;5;241m*\u001b[39m\u001b[38;5;28mself\u001b[39m\u001b[38;5;241m.\u001b[39m_tuner_kwargs,\n\u001b[1;32m    702\u001b[0m }\n\u001b[0;32m--> 703\u001b[0m analysis \u001b[38;5;241m=\u001b[39m \u001b[43mrun\u001b[49m\u001b[43m(\u001b[49m\n\u001b[1;32m    704\u001b[0m \u001b[43m    \u001b[49m\u001b[38;5;241;43m*\u001b[39;49m\u001b[38;5;241;43m*\u001b[39;49m\u001b[43margs\u001b[49m\u001b[43m,\u001b[49m\n\u001b[1;32m    705\u001b[0m \u001b[43m\u001b[49m\u001b[43m)\u001b[49m\n\u001b[1;32m    706\u001b[0m \u001b[38;5;28mself\u001b[39m\u001b[38;5;241m.\u001b[39mclear_remote_string_queue()\n\u001b[1;32m    707\u001b[0m \u001b[38;5;28;01mreturn\u001b[39;00m analysis\n",
      "File \u001b[0;32m~/anaconda3/envs/rl/lib/python3.11/site-packages/ray/tune/tune.py:1107\u001b[0m, in \u001b[0;36mrun\u001b[0;34m(run_or_experiment, name, metric, mode, stop, time_budget_s, config, resources_per_trial, num_samples, storage_path, search_alg, scheduler, checkpoint_config, verbose, progress_reporter, log_to_file, trial_name_creator, trial_dirname_creator, chdir_to_trial_dir, sync_config, export_formats, max_failures, fail_fast, restore, server_port, resume, reuse_actors, raise_on_failed_trial, callbacks, max_concurrent_trials, keep_checkpoints_num, checkpoint_score_attr, checkpoint_freq, checkpoint_at_end, checkpoint_keep_all_ranks, checkpoint_upload_from_workers, trial_executor, local_dir, _experiment_checkpoint_dir, _remote, _remote_string_queue, _entrypoint)\u001b[0m\n\u001b[1;32m   1103\u001b[0m \u001b[38;5;28;01mtry\u001b[39;00m:\n\u001b[1;32m   1104\u001b[0m     \u001b[38;5;28;01mwhile\u001b[39;00m (\n\u001b[1;32m   1105\u001b[0m         \u001b[38;5;129;01mnot\u001b[39;00m runner\u001b[38;5;241m.\u001b[39mis_finished() \u001b[38;5;129;01mand\u001b[39;00m \u001b[38;5;129;01mnot\u001b[39;00m experiment_interrupted_event\u001b[38;5;241m.\u001b[39mis_set()\n\u001b[1;32m   1106\u001b[0m     ):\n\u001b[0;32m-> 1107\u001b[0m         \u001b[43mrunner\u001b[49m\u001b[38;5;241;43m.\u001b[39;49m\u001b[43mstep\u001b[49m\u001b[43m(\u001b[49m\u001b[43m)\u001b[49m\n\u001b[1;32m   1108\u001b[0m         \u001b[38;5;28;01mif\u001b[39;00m has_verbosity(Verbosity\u001b[38;5;241m.\u001b[39mV1_EXPERIMENT):\n\u001b[1;32m   1109\u001b[0m             _report_progress(runner, progress_reporter)\n",
      "File \u001b[0;32m~/anaconda3/envs/rl/lib/python3.11/site-packages/ray/tune/execution/tune_controller.py:280\u001b[0m, in \u001b[0;36mTuneController.step\u001b[0;34m(self)\u001b[0m\n\u001b[1;32m    275\u001b[0m     \u001b[38;5;28mself\u001b[39m\u001b[38;5;241m.\u001b[39m_callbacks\u001b[38;5;241m.\u001b[39mon_step_begin(\n\u001b[1;32m    276\u001b[0m         iteration\u001b[38;5;241m=\u001b[39m\u001b[38;5;28mself\u001b[39m\u001b[38;5;241m.\u001b[39m_iteration, trials\u001b[38;5;241m=\u001b[39m\u001b[38;5;28mself\u001b[39m\u001b[38;5;241m.\u001b[39m_trials\n\u001b[1;32m    277\u001b[0m     )\n\u001b[1;32m    279\u001b[0m \u001b[38;5;66;03m# Ask searcher for more trials\u001b[39;00m\n\u001b[0;32m--> 280\u001b[0m \u001b[38;5;28;43mself\u001b[39;49m\u001b[38;5;241;43m.\u001b[39;49m\u001b[43m_maybe_update_trial_queue\u001b[49m\u001b[43m(\u001b[49m\u001b[43m)\u001b[49m\n\u001b[1;32m    282\u001b[0m \u001b[38;5;66;03m# Start actors for added trials\u001b[39;00m\n\u001b[1;32m    283\u001b[0m \u001b[38;5;28mself\u001b[39m\u001b[38;5;241m.\u001b[39m_maybe_add_actors()\n",
      "File \u001b[0;32m~/anaconda3/envs/rl/lib/python3.11/site-packages/ray/tune/execution/tune_controller.py:411\u001b[0m, in \u001b[0;36mTuneController._maybe_update_trial_queue\u001b[0;34m(self)\u001b[0m\n\u001b[1;32m    406\u001b[0m dont_wait_for_trial \u001b[38;5;241m=\u001b[39m (\n\u001b[1;32m    407\u001b[0m     \u001b[38;5;28mself\u001b[39m\u001b[38;5;241m.\u001b[39m_pending_trials \u001b[38;5;129;01mor\u001b[39;00m \u001b[38;5;28mself\u001b[39m\u001b[38;5;241m.\u001b[39m_running_trials \u001b[38;5;129;01mor\u001b[39;00m \u001b[38;5;28mself\u001b[39m\u001b[38;5;241m.\u001b[39m_paused_trials\n\u001b[1;32m    408\u001b[0m )\n\u001b[1;32m    410\u001b[0m \u001b[38;5;28;01mwhile\u001b[39;00m \u001b[38;5;28mlen\u001b[39m(\u001b[38;5;28mself\u001b[39m\u001b[38;5;241m.\u001b[39m_pending_trials) \u001b[38;5;241m<\u001b[39m \u001b[38;5;28mself\u001b[39m\u001b[38;5;241m.\u001b[39m_max_pending_trials:\n\u001b[0;32m--> 411\u001b[0m     \u001b[38;5;28;01mif\u001b[39;00m \u001b[38;5;129;01mnot\u001b[39;00m \u001b[38;5;28;43mself\u001b[39;49m\u001b[38;5;241;43m.\u001b[39;49m\u001b[43m_update_trial_queue\u001b[49m\u001b[43m(\u001b[49m\u001b[43mblocking\u001b[49m\u001b[38;5;241;43m=\u001b[39;49m\u001b[38;5;129;43;01mnot\u001b[39;49;00m\u001b[43m \u001b[49m\u001b[43mdont_wait_for_trial\u001b[49m\u001b[43m)\u001b[49m:\n\u001b[1;32m    412\u001b[0m         \u001b[38;5;28;01mbreak\u001b[39;00m\n\u001b[1;32m    413\u001b[0m     dont_wait_for_trial \u001b[38;5;241m=\u001b[39m \u001b[38;5;28;01mTrue\u001b[39;00m\n",
      "File \u001b[0;32m~/anaconda3/envs/rl/lib/python3.11/site-packages/ray/tune/execution/trial_runner.py:1112\u001b[0m, in \u001b[0;36m_TuneControllerBase._update_trial_queue\u001b[0;34m(self, blocking, timeout)\u001b[0m\n\u001b[1;32m   1109\u001b[0m         time\u001b[38;5;241m.\u001b[39msleep(\u001b[38;5;241m1\u001b[39m)\n\u001b[1;32m   1111\u001b[0m \u001b[38;5;28;01mif\u001b[39;00m trial:\n\u001b[0;32m-> 1112\u001b[0m     \u001b[38;5;28;43mself\u001b[39;49m\u001b[38;5;241;43m.\u001b[39;49m\u001b[43madd_trial\u001b[49m\u001b[43m(\u001b[49m\u001b[43mtrial\u001b[49m\u001b[43m)\u001b[49m\n\u001b[1;32m   1113\u001b[0m     \u001b[38;5;28;01mreturn\u001b[39;00m \u001b[38;5;28;01mTrue\u001b[39;00m\n\u001b[1;32m   1115\u001b[0m \u001b[38;5;28;01mreturn\u001b[39;00m \u001b[38;5;28;01mFalse\u001b[39;00m\n",
      "File \u001b[0;32m~/anaconda3/envs/rl/lib/python3.11/site-packages/ray/tune/execution/tune_controller.py:383\u001b[0m, in \u001b[0;36mTuneController.add_trial\u001b[0;34m(self, trial)\u001b[0m\n\u001b[1;32m    377\u001b[0m \u001b[38;5;28;01mdef\u001b[39;00m \u001b[38;5;21madd_trial\u001b[39m(\u001b[38;5;28mself\u001b[39m, trial: Trial):\n\u001b[1;32m    378\u001b[0m \u001b[38;5;250m    \u001b[39m\u001b[38;5;124;03m\"\"\"Add a trial to run.\u001b[39;00m\n\u001b[1;32m    379\u001b[0m \n\u001b[1;32m    380\u001b[0m \u001b[38;5;124;03m    Like ``_set_trial_status``, this will also update the respective\u001b[39;00m\n\u001b[1;32m    381\u001b[0m \u001b[38;5;124;03m    trial state sets and mappings.\u001b[39;00m\n\u001b[1;32m    382\u001b[0m \u001b[38;5;124;03m    \"\"\"\u001b[39;00m\n\u001b[0;32m--> 383\u001b[0m     \u001b[38;5;28;43msuper\u001b[39;49m\u001b[43m(\u001b[49m\u001b[43m)\u001b[49m\u001b[38;5;241;43m.\u001b[39;49m\u001b[43madd_trial\u001b[49m\u001b[43m(\u001b[49m\u001b[43mtrial\u001b[49m\u001b[43m)\u001b[49m\n\u001b[1;32m    385\u001b[0m     logger\u001b[38;5;241m.\u001b[39mdebug(\u001b[38;5;124mf\u001b[39m\u001b[38;5;124m\"\u001b[39m\u001b[38;5;124mAdding trial \u001b[39m\u001b[38;5;132;01m{\u001b[39;00mtrial\u001b[38;5;132;01m}\u001b[39;00m\u001b[38;5;124m with status \u001b[39m\u001b[38;5;132;01m{\u001b[39;00mtrial\u001b[38;5;241m.\u001b[39mstatus\u001b[38;5;132;01m}\u001b[39;00m\u001b[38;5;124m\"\u001b[39m)\n\u001b[1;32m    387\u001b[0m     status_str_map \u001b[38;5;241m=\u001b[39m {\n\u001b[1;32m    388\u001b[0m         Trial\u001b[38;5;241m.\u001b[39mPENDING: \u001b[38;5;28mself\u001b[39m\u001b[38;5;241m.\u001b[39m_pending_trials,\n\u001b[1;32m    389\u001b[0m         Trial\u001b[38;5;241m.\u001b[39mRUNNING: \u001b[38;5;28mself\u001b[39m\u001b[38;5;241m.\u001b[39m_running_trials,\n\u001b[0;32m   (...)\u001b[0m\n\u001b[1;32m    392\u001b[0m         Trial\u001b[38;5;241m.\u001b[39mERROR: \u001b[38;5;28mself\u001b[39m\u001b[38;5;241m.\u001b[39m_failed_trials,\n\u001b[1;32m    393\u001b[0m     }\n",
      "File \u001b[0;32m~/anaconda3/envs/rl/lib/python3.11/site-packages/ray/tune/execution/trial_runner.py:597\u001b[0m, in \u001b[0;36m_TuneControllerBase.add_trial\u001b[0;34m(self, trial)\u001b[0m\n\u001b[1;32m    594\u001b[0m     trial\u001b[38;5;241m.\u001b[39mresolve_config_placeholders(\u001b[38;5;28mself\u001b[39m\u001b[38;5;241m.\u001b[39m_placeholder_resolvers)\n\u001b[1;32m    596\u001b[0m \u001b[38;5;66;03m# With trial.config resolved, create placement group factory if needed.\u001b[39;00m\n\u001b[0;32m--> 597\u001b[0m \u001b[43mtrial\u001b[49m\u001b[38;5;241;43m.\u001b[39;49m\u001b[43mcreate_placement_group_factory\u001b[49m\u001b[43m(\u001b[49m\u001b[43m)\u001b[49m\n\u001b[1;32m    599\u001b[0m \u001b[38;5;28mself\u001b[39m\u001b[38;5;241m.\u001b[39m_trials\u001b[38;5;241m.\u001b[39mappend(trial)\n\u001b[1;32m    600\u001b[0m \u001b[38;5;28;01mif\u001b[39;00m trial\u001b[38;5;241m.\u001b[39mstatus \u001b[38;5;241m!=\u001b[39m Trial\u001b[38;5;241m.\u001b[39mTERMINATED:\n",
      "File \u001b[0;32m~/anaconda3/envs/rl/lib/python3.11/site-packages/ray/tune/experiment/trial.py:553\u001b[0m, in \u001b[0;36mTrial.create_placement_group_factory\u001b[0;34m(self)\u001b[0m\n\u001b[1;32m    548\u001b[0m     \u001b[38;5;28mself\u001b[39m\u001b[38;5;241m.\u001b[39mplacement_group_factory \u001b[38;5;241m=\u001b[39m (\n\u001b[1;32m    549\u001b[0m         \u001b[38;5;28mself\u001b[39m\u001b[38;5;241m.\u001b[39m_default_placement_group_factory \u001b[38;5;129;01mor\u001b[39;00m resource_dict_to_pg_factory()\n\u001b[1;32m    550\u001b[0m     )\n\u001b[1;32m    551\u001b[0m     \u001b[38;5;28;01mreturn\u001b[39;00m\n\u001b[0;32m--> 553\u001b[0m default_resources \u001b[38;5;241m=\u001b[39m \u001b[43mtrainable_cls\u001b[49m\u001b[38;5;241;43m.\u001b[39;49m\u001b[43mdefault_resource_request\u001b[49m\u001b[43m(\u001b[49m\u001b[38;5;28;43mself\u001b[39;49m\u001b[38;5;241;43m.\u001b[39;49m\u001b[43mconfig\u001b[49m\u001b[43m)\u001b[49m\n\u001b[1;32m    555\u001b[0m \u001b[38;5;66;03m# If Trainable returns resources, do not allow manual override via\u001b[39;00m\n\u001b[1;32m    556\u001b[0m \u001b[38;5;66;03m# `resources_per_trial` by the user.\u001b[39;00m\n\u001b[1;32m    557\u001b[0m \u001b[38;5;28;01mif\u001b[39;00m default_resources \u001b[38;5;129;01mand\u001b[39;00m \u001b[38;5;28mself\u001b[39m\u001b[38;5;241m.\u001b[39m_default_placement_group_factory:\n",
      "File \u001b[0;32m~/anaconda3/envs/rl/lib/python3.11/site-packages/ray/rllib/algorithms/algorithm.py:2195\u001b[0m, in \u001b[0;36mAlgorithm.default_resource_request\u001b[0;34m(cls, config)\u001b[0m\n\u001b[1;32m   2180\u001b[0m \u001b[38;5;129m@OverrideToImplementCustomLogic\u001b[39m\n\u001b[1;32m   2181\u001b[0m \u001b[38;5;129m@classmethod\u001b[39m\n\u001b[1;32m   2182\u001b[0m \u001b[38;5;129m@override\u001b[39m(Trainable)\n\u001b[0;32m   (...)\u001b[0m\n\u001b[1;32m   2192\u001b[0m \n\u001b[1;32m   2193\u001b[0m     \u001b[38;5;66;03m# Convenience config handles.\u001b[39;00m\n\u001b[1;32m   2194\u001b[0m     cf \u001b[38;5;241m=\u001b[39m \u001b[38;5;28mcls\u001b[39m\u001b[38;5;241m.\u001b[39mget_default_config()\u001b[38;5;241m.\u001b[39mupdate_from_dict(config)\n\u001b[0;32m-> 2195\u001b[0m     \u001b[43mcf\u001b[49m\u001b[38;5;241;43m.\u001b[39;49m\u001b[43mvalidate\u001b[49m\u001b[43m(\u001b[49m\u001b[43m)\u001b[49m\n\u001b[1;32m   2196\u001b[0m     cf\u001b[38;5;241m.\u001b[39mfreeze()\n\u001b[1;32m   2198\u001b[0m     \u001b[38;5;66;03m# get evaluation config\u001b[39;00m\n",
      "File \u001b[0;32m~/anaconda3/envs/rl/lib/python3.11/site-packages/ray/rllib/algorithms/ppo/ppo.py:315\u001b[0m, in \u001b[0;36mPPOConfig.validate\u001b[0;34m(self)\u001b[0m\n\u001b[1;32m    312\u001b[0m     \u001b[38;5;28mself\u001b[39m\u001b[38;5;241m.\u001b[39mtraining(_enable_learner_api\u001b[38;5;241m=\u001b[39m\u001b[38;5;28;01mFalse\u001b[39;00m)\n\u001b[1;32m    314\u001b[0m \u001b[38;5;66;03m# Call super's validation method.\u001b[39;00m\n\u001b[0;32m--> 315\u001b[0m \u001b[38;5;28;43msuper\u001b[39;49m\u001b[43m(\u001b[49m\u001b[43m)\u001b[49m\u001b[38;5;241;43m.\u001b[39;49m\u001b[43mvalidate\u001b[49m\u001b[43m(\u001b[49m\u001b[43m)\u001b[49m\n\u001b[1;32m    317\u001b[0m \u001b[38;5;66;03m# SGD minibatch size must be smaller than train_batch_size (b/c\u001b[39;00m\n\u001b[1;32m    318\u001b[0m \u001b[38;5;66;03m# we subsample a batch of `sgd_minibatch_size` from the train-batch for\u001b[39;00m\n\u001b[1;32m    319\u001b[0m \u001b[38;5;66;03m# each `num_sgd_iter`).\u001b[39;00m\n\u001b[1;32m    320\u001b[0m \u001b[38;5;66;03m# Note: Only check this if `train_batch_size` > 0 (DDPPO sets this\u001b[39;00m\n\u001b[1;32m    321\u001b[0m \u001b[38;5;66;03m# to -1 to auto-calculate the actual batch size later).\u001b[39;00m\n\u001b[1;32m    322\u001b[0m \u001b[38;5;28;01mif\u001b[39;00m \u001b[38;5;28mself\u001b[39m\u001b[38;5;241m.\u001b[39msgd_minibatch_size \u001b[38;5;241m>\u001b[39m \u001b[38;5;28mself\u001b[39m\u001b[38;5;241m.\u001b[39mtrain_batch_size:\n",
      "File \u001b[0;32m~/anaconda3/envs/rl/lib/python3.11/site-packages/ray/rllib/algorithms/pg/pg.py:100\u001b[0m, in \u001b[0;36mPGConfig.validate\u001b[0;34m(self)\u001b[0m\n\u001b[1;32m     97\u001b[0m \u001b[38;5;129m@override\u001b[39m(AlgorithmConfig)\n\u001b[1;32m     98\u001b[0m \u001b[38;5;28;01mdef\u001b[39;00m \u001b[38;5;21mvalidate\u001b[39m(\u001b[38;5;28mself\u001b[39m) \u001b[38;5;241m-\u001b[39m\u001b[38;5;241m>\u001b[39m \u001b[38;5;28;01mNone\u001b[39;00m:\n\u001b[1;32m     99\u001b[0m     \u001b[38;5;66;03m# Call super's validation method.\u001b[39;00m\n\u001b[0;32m--> 100\u001b[0m     \u001b[38;5;28;43msuper\u001b[39;49m\u001b[43m(\u001b[49m\u001b[43m)\u001b[49m\u001b[38;5;241;43m.\u001b[39;49m\u001b[43mvalidate\u001b[49m\u001b[43m(\u001b[49m\u001b[43m)\u001b[49m\n\u001b[1;32m    102\u001b[0m     \u001b[38;5;66;03m# Synchronous sampling, on-policy PG algo -> Check mismatches between\u001b[39;00m\n\u001b[1;32m    103\u001b[0m     \u001b[38;5;66;03m# `rollout_fragment_length` and `train_batch_size` to avoid user confusion.\u001b[39;00m\n\u001b[1;32m    104\u001b[0m     \u001b[38;5;28mself\u001b[39m\u001b[38;5;241m.\u001b[39mvalidate_train_batch_size_vs_rollout_fragment_length()\n",
      "File \u001b[0;32m~/anaconda3/envs/rl/lib/python3.11/site-packages/ray/rllib/algorithms/algorithm_config.py:773\u001b[0m, in \u001b[0;36mAlgorithmConfig.validate\u001b[0;34m(self)\u001b[0m\n\u001b[1;32m    765\u001b[0m \u001b[38;5;28;01mif\u001b[39;00m (\n\u001b[1;32m    766\u001b[0m     _torch \u001b[38;5;129;01mis\u001b[39;00m \u001b[38;5;129;01mnot\u001b[39;00m \u001b[38;5;28;01mNone\u001b[39;00m\n\u001b[1;32m    767\u001b[0m     \u001b[38;5;129;01mand\u001b[39;00m \u001b[38;5;28mself\u001b[39m\u001b[38;5;241m.\u001b[39mframework_str \u001b[38;5;241m==\u001b[39m \u001b[38;5;124m\"\u001b[39m\u001b[38;5;124mtorch\u001b[39m\u001b[38;5;124m\"\u001b[39m\n\u001b[1;32m    768\u001b[0m     \u001b[38;5;129;01mand\u001b[39;00m version\u001b[38;5;241m.\u001b[39mparse(_torch\u001b[38;5;241m.\u001b[39m__version__) \u001b[38;5;241m<\u001b[39m TORCH_COMPILE_REQUIRED_VERSION\n\u001b[1;32m    769\u001b[0m     \u001b[38;5;129;01mand\u001b[39;00m (\u001b[38;5;28mself\u001b[39m\u001b[38;5;241m.\u001b[39mtorch_compile_learner \u001b[38;5;129;01mor\u001b[39;00m \u001b[38;5;28mself\u001b[39m\u001b[38;5;241m.\u001b[39mtorch_compile_worker)\n\u001b[1;32m    770\u001b[0m ):\n\u001b[1;32m    771\u001b[0m     \u001b[38;5;28;01mraise\u001b[39;00m \u001b[38;5;167;01mValueError\u001b[39;00m(\u001b[38;5;124m\"\u001b[39m\u001b[38;5;124mtorch.compile is only supported from torch 2.0.0\u001b[39m\u001b[38;5;124m\"\u001b[39m)\n\u001b[0;32m--> 773\u001b[0m \u001b[38;5;28;43mself\u001b[39;49m\u001b[38;5;241;43m.\u001b[39;49m\u001b[43m_check_if_correct_nn_framework_installed\u001b[49m\u001b[43m(\u001b[49m\u001b[43m_tf1\u001b[49m\u001b[43m,\u001b[49m\u001b[43m \u001b[49m\u001b[43m_tf\u001b[49m\u001b[43m,\u001b[49m\u001b[43m \u001b[49m\u001b[43m_torch\u001b[49m\u001b[43m)\u001b[49m\n\u001b[1;32m    774\u001b[0m \u001b[38;5;28mself\u001b[39m\u001b[38;5;241m.\u001b[39m_resolve_tf_settings(_tf1, _tfv)\n\u001b[1;32m    776\u001b[0m \u001b[38;5;66;03m# Check `policies_to_train` for invalid entries.\u001b[39;00m\n",
      "File \u001b[0;32m~/anaconda3/envs/rl/lib/python3.11/site-packages/ray/rllib/algorithms/algorithm_config.py:3647\u001b[0m, in \u001b[0;36mAlgorithmConfig._check_if_correct_nn_framework_installed\u001b[0;34m(self, _tf1, _tf, _torch)\u001b[0m\n\u001b[1;32m   3645\u001b[0m \u001b[38;5;28;01melif\u001b[39;00m \u001b[38;5;28mself\u001b[39m\u001b[38;5;241m.\u001b[39mframework_str \u001b[38;5;241m==\u001b[39m \u001b[38;5;124m\"\u001b[39m\u001b[38;5;124mtorch\u001b[39m\u001b[38;5;124m\"\u001b[39m:\n\u001b[1;32m   3646\u001b[0m     \u001b[38;5;28;01mif\u001b[39;00m \u001b[38;5;129;01mnot\u001b[39;00m _torch:\n\u001b[0;32m-> 3647\u001b[0m         \u001b[38;5;28;01mraise\u001b[39;00m \u001b[38;5;167;01mImportError\u001b[39;00m(\n\u001b[1;32m   3648\u001b[0m             (\n\u001b[1;32m   3649\u001b[0m                 \u001b[38;5;124m\"\u001b[39m\u001b[38;5;124mPyTorch was specified as the framework to use (via `config.\u001b[39m\u001b[38;5;124m\"\u001b[39m\n\u001b[1;32m   3650\u001b[0m                 \u001b[38;5;124m\"\u001b[39m\u001b[38;5;124mframework(\u001b[39m\u001b[38;5;124m'\u001b[39m\u001b[38;5;124mtorch\u001b[39m\u001b[38;5;124m'\u001b[39m\u001b[38;5;124m)`)! However, no installation was found. You \u001b[39m\u001b[38;5;124m\"\u001b[39m\n\u001b[1;32m   3651\u001b[0m                 \u001b[38;5;124m\"\u001b[39m\u001b[38;5;124mcan install PyTorch via `pip install torch`.\u001b[39m\u001b[38;5;124m\"\u001b[39m\n\u001b[1;32m   3652\u001b[0m             )\n\u001b[1;32m   3653\u001b[0m         )\n",
      "\u001b[0;31mImportError\u001b[0m: PyTorch was specified as the framework to use (via `config.framework('torch')`)! However, no installation was found. You can install PyTorch via `pip install torch`."
     ]
    }
   ],
   "source": [
    "import ray\n",
    "from ray import tune,air\n",
    "\n",
    "stopping_criterion = {\"training_iteration\": 50}\n",
    "ray.init(ignore_reinit_error=True, log_to_driver=False)\n",
    "tuner = tune.Tuner(\n",
    "    \"PPO\",\n",
    "    param_space={\n",
    "        \"env\": \"rp\",\n",
    "        \"framework\": \"torch\",\n",
    "        \"num_gpus\": 0,\n",
    "    },\n",
    "    run_config=air.RunConfig(stop=stopping_criterion)\n",
    ")\n",
    "results = tuner.fit()\n"
   ]
  },
  {
   "cell_type": "code",
   "execution_count": null,
   "metadata": {},
   "outputs": [],
   "source": []
  }
 ],
 "metadata": {
  "kernelspec": {
   "display_name": "rl",
   "language": "python",
   "name": "rl"
  },
  "language_info": {
   "codemirror_mode": {
    "name": "ipython",
    "version": 3
   },
   "file_extension": ".py",
   "mimetype": "text/x-python",
   "name": "python",
   "nbconvert_exporter": "python",
   "pygments_lexer": "ipython3",
   "version": "3.11.5"
  }
 },
 "nbformat": 4,
 "nbformat_minor": 4
}

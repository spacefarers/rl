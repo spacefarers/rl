{
 "cells": [
  {
   "cell_type": "code",
   "execution_count": 1,
   "id": "6ea2dfa7952dad8b",
   "metadata": {
    "ExecuteTime": {
     "end_time": "2023-10-15T06:57:09.721132700Z",
     "start_time": "2023-10-15T06:57:09.698131500Z"
    },
    "collapsed": false,
    "jupyter": {
     "outputs_hidden": false
    }
   },
   "outputs": [],
   "source": [
    "from game import SnakeEnv"
   ]
  },
  {
   "cell_type": "code",
   "execution_count": 2,
   "id": "12f16cbdf15acb0a",
   "metadata": {
    "ExecuteTime": {
     "end_time": "2023-10-15T06:57:09.830166800Z",
     "start_time": "2023-10-15T06:57:09.744131500Z"
    },
    "collapsed": false,
    "jupyter": {
     "outputs_hidden": false
    }
   },
   "outputs": [],
   "source": [
    "env = SnakeEnv()"
   ]
  },
  {
   "cell_type": "code",
   "execution_count": 5,
   "id": "e42c4cff0de743d5",
   "metadata": {
    "ExecuteTime": {
     "end_time": "2023-10-15T06:57:09.851167600Z",
     "start_time": "2023-10-15T06:57:09.831166300Z"
    },
    "collapsed": false,
    "jupyter": {
     "outputs_hidden": false
    }
   },
   "outputs": [
    {
     "data": {
      "text/plain": [
       "(array([[[0, 0, 0],\n",
       "         [0, 0, 0],\n",
       "         [0, 0, 0],\n",
       "         ...,\n",
       "         [0, 0, 0],\n",
       "         [0, 0, 0],\n",
       "         [0, 0, 0]],\n",
       " \n",
       "        [[0, 0, 0],\n",
       "         [0, 0, 0],\n",
       "         [0, 0, 0],\n",
       "         ...,\n",
       "         [0, 0, 0],\n",
       "         [0, 0, 0],\n",
       "         [0, 0, 0]],\n",
       " \n",
       "        [[0, 0, 0],\n",
       "         [0, 0, 0],\n",
       "         [0, 0, 0],\n",
       "         ...,\n",
       "         [0, 0, 0],\n",
       "         [0, 0, 0],\n",
       "         [0, 0, 0]],\n",
       " \n",
       "        ...,\n",
       " \n",
       "        [[0, 0, 0],\n",
       "         [0, 0, 0],\n",
       "         [0, 0, 0],\n",
       "         ...,\n",
       "         [0, 0, 0],\n",
       "         [0, 0, 0],\n",
       "         [0, 0, 0]],\n",
       " \n",
       "        [[0, 0, 0],\n",
       "         [0, 0, 0],\n",
       "         [0, 0, 0],\n",
       "         ...,\n",
       "         [0, 0, 0],\n",
       "         [0, 0, 0],\n",
       "         [0, 0, 0]],\n",
       " \n",
       "        [[0, 0, 0],\n",
       "         [0, 0, 0],\n",
       "         [0, 0, 0],\n",
       "         ...,\n",
       "         [0, 0, 0],\n",
       "         [0, 0, 0],\n",
       "         [0, 0, 0]]], dtype=uint8),\n",
       " 1,\n",
       " False,\n",
       " False,\n",
       " {})"
      ]
     },
     "execution_count": 5,
     "metadata": {},
     "output_type": "execute_result"
    }
   ],
   "source": [
    "env.step(2)"
   ]
  },
  {
   "cell_type": "code",
   "execution_count": 6,
   "id": "5c8dbae2beac5c1c",
   "metadata": {
    "ExecuteTime": {
     "end_time": "2023-10-15T06:57:09.852167500Z",
     "start_time": "2023-10-15T06:57:09.851167600Z"
    },
    "collapsed": false,
    "jupyter": {
     "outputs_hidden": false
    }
   },
   "outputs": [],
   "source": [
    "env.render()"
   ]
  },
  {
   "cell_type": "code",
   "execution_count": 3,
   "id": "9d1708e87d4c9a4a",
   "metadata": {
    "ExecuteTime": {
     "end_time": "2023-10-15T06:57:10.629973Z",
     "start_time": "2023-10-15T06:57:09.852167500Z"
    },
    "collapsed": false,
    "jupyter": {
     "outputs_hidden": false
    }
   },
   "outputs": [],
   "source": [
    "from ray.tune.registry import register_env\n",
    "register_env(\"snake\", SnakeEnv)"
   ]
  },
  {
   "cell_type": "code",
   "execution_count": 4,
   "id": "ee3005d5568896e9",
   "metadata": {
    "ExecuteTime": {
     "start_time": "2023-10-15T06:57:10.631972800Z"
    },
    "collapsed": false,
    "jupyter": {
     "outputs_hidden": false
    }
   },
   "outputs": [
    {
     "name": "stderr",
     "output_type": "stream",
     "text": [
      "2023-10-15 03:00:16,461\tWARNING deprecation.py:50 -- DeprecationWarning: `DirectStepOptimizer` has been deprecated. This will raise an error in the future!\n"
     ]
    }
   ],
   "source": [
    "import ray\n",
    "from ray import tune,air\n",
    "from ray.rllib.algorithms.algorithm_config import AlgorithmConfig\n",
    "from ray.rllib.algorithms.callbacks import MemoryTrackingCallbacks\n",
    "from ray.tune.logger import LoggerCallback\n",
    "from ray.air import session\n",
    "\n",
    "\n",
    "class RewardLoggerCallback(LoggerCallback):\n",
    "    def __init__(self) -> None:\n",
    "        self.results = []\n",
    "\n",
    "    def log_trial_result(self, iteration: int, trial, result):\n",
    "        reward = result  # assuming 'reward' is your reward key\n",
    "        self.results.append(reward)\n",
    "\n",
    "callback = RewardLoggerCallback()\n",
    "\n",
    "stopping_criterion = {\"training_iteration\": 50}"
   ]
  },
  {
   "cell_type": "code",
   "execution_count": null,
   "id": "89d55beb9e2785b0",
   "metadata": {
    "collapsed": false,
    "jupyter": {
     "outputs_hidden": false
    }
   },
   "outputs": [
    {
     "name": "stderr",
     "output_type": "stream",
     "text": [
      "2023-10-15 03:00:18,310\tINFO worker.py:1642 -- Started a local Ray instance.\n"
     ]
    }
   ],
   "source": [
    "ray.init(ignore_reinit_error=True, log_to_driver=False)\n",
    "tuner = tune.Tuner(\n",
    "    \"PPO\",\n",
    "    param_space={\n",
    "        \"env\": \"snake\",\n",
    "        \"framework\": \"torch\",\n",
    "        \"num_gpus\": 0,\n",
    "        \"num_workers\":8,\n",
    "        \"should_checkpoint\": True,\n",
    "    },\n",
    "    # run_config=air.RunConfig(\n",
    "    #     stop=stopping_criterion,callbacks=[callback],\n",
    "    #     checkpoint_config=air.CheckpointConfig(checkpoint_frequency=1),\n",
    "    #     ),\n",
    ")\n",
    "results = tuner.fit()\n",
    "ray.shutdown()"
   ]
  },
  {
   "cell_type": "code",
   "execution_count": null,
   "id": "adc44c703e6d489a",
   "metadata": {
    "collapsed": false,
    "jupyter": {
     "outputs_hidden": false
    }
   },
   "outputs": [],
   "source": []
  }
 ],
 "metadata": {
  "kernelspec": {
   "display_name": "Python 3 (ipykernel)",
   "language": "python",
   "name": "python3"
  },
  "language_info": {
   "codemirror_mode": {
    "name": "ipython",
    "version": 3
   },
   "file_extension": ".py",
   "mimetype": "text/x-python",
   "name": "python",
   "nbconvert_exporter": "python",
   "pygments_lexer": "ipython3",
   "version": "3.11.0"
  }
 },
 "nbformat": 4,
 "nbformat_minor": 5
}

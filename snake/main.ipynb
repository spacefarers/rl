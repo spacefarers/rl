{
 "cells": [
  {
   "cell_type": "code",
   "execution_count": null,
   "id": "6ea2dfa7952dad8b",
   "metadata": {
    "ExecuteTime": {
     "end_time": "2023-10-15T07:23:38.720340900Z",
     "start_time": "2023-10-15T07:23:38.702340900Z"
    },
    "collapsed": false,
    "jupyter": {
     "outputs_hidden": false
    },
    "tags": []
   },
   "outputs": [],
   "source": [
    "import gymnasium as gym\n",
    "from gymnasium import spaces\n",
    "import numpy as np\n",
    "import random\n",
    "import pygame\n",
    "\n",
    "\n",
    "class SnakeEnv(gym.Env):\n",
    "    def __init__(self, config=None):\n",
    "        super(SnakeEnv, self).__init__()\n",
    "\n",
    "        self.grid_size = 15\n",
    "        self.observation_space = spaces.Box(low=0, high=255, shape=(self.grid_size, self.grid_size, 3), dtype=np.uint8)\n",
    "        self.action_space = spaces.Discrete(4)  # 0: up, 1: down, 2: left, 3: right\n",
    "\n",
    "        self.snake = [(4, 4)]\n",
    "        self.food = self._spawn_food()\n",
    "        self.direction = 3  # Initial direction (0: up, 1: down, 2: left, 3: right)\n",
    "        self.current_steps = 0\n",
    "\n",
    "        # Pygame initialization\n",
    "        self.window_size = 300\n",
    "        self.scale_factor = self.window_size // self.grid_size\n",
    "\n",
    "    def seed(self, seed=None):\n",
    "        self.np_random, seed = gym.utils.seeding.np_random(seed)\n",
    "        return [seed]\n",
    "\n",
    "    def reset(self, *, seed=None, options=None):\n",
    "        self.current_steps = 0\n",
    "        self.snake = [(4, 4)]\n",
    "        self.food = self._spawn_food()\n",
    "        self.direction = 3\n",
    "        return self._get_observation(),{}\n",
    "\n",
    "    def _spawn_food(self):\n",
    "        while True:\n",
    "            food = (random.randint(0, self.grid_size - 1), random.randint(0, self.grid_size - 1))\n",
    "            if food not in self.snake:\n",
    "                return food\n",
    "\n",
    "    def _valid_coords(self, coords):\n",
    "        return 0 <= coords[0] < self.grid_size and 0 <= coords[1] < self.grid_size\n",
    "\n",
    "    def _get_observation(self):\n",
    "        observation = np.zeros((self.grid_size, self.grid_size, 3), dtype=np.uint8)\n",
    "        for segment in self.snake:\n",
    "            if self._valid_coords(segment):\n",
    "                observation[segment[0], segment[1]] = [0, 255, 0]  # Snake segment\n",
    "        observation[self.food[0], self.food[1]] = [255, 0, 0]  # Food\n",
    "        return observation\n",
    "\n",
    "    def step(self, action):\n",
    "        self.current_steps += 1\n",
    "        self.direction = action\n",
    "\n",
    "        # Update snake's head based on the direction\n",
    "        if self.direction == 0:  # Up\n",
    "            new_head = (self.snake[0][0] - 1, self.snake[0][1])\n",
    "        elif self.direction == 1:  # Down\n",
    "            new_head = (self.snake[0][0] + 1, self.snake[0][1])\n",
    "        elif self.direction == 2:  # Left\n",
    "            new_head = (self.snake[0][0], self.snake[0][1] - 1)\n",
    "        else:  # Right\n",
    "            new_head = (self.snake[0][0], self.snake[0][1] + 1)\n",
    "\n",
    "        self.snake.insert(0, new_head)\n",
    "\n",
    "        if self.snake[0] == self.food:\n",
    "            self.food = self._spawn_food()\n",
    "        else:\n",
    "            self.snake.pop()\n",
    "\n",
    "        # Check for collisions\n",
    "        game_over = self.current_steps > 500\n",
    "        if (new_head in self.snake[1:] or not self._valid_coords(new_head)):\n",
    "            reward = -100\n",
    "            game_over = True\n",
    "        else:\n",
    "            reward = len(self.snake)\n",
    "\n",
    "        return self._get_observation(), reward, game_over, False, {}\n",
    "\n",
    "    def render(self, mode='human'):\n",
    "        self.window = pygame.display.set_mode((self.window_size, self.window_size))\n",
    "        pygame.display.set_caption(\"Snake Game\")\n",
    "        self.window.fill((0, 0, 0))\n",
    "\n",
    "        for segment in self.snake:\n",
    "            pygame.draw.rect(self.window, (0, 255, 0),\n",
    "                             (segment[1] * self.scale_factor, segment[0] * self.scale_factor,\n",
    "                              self.scale_factor, self.scale_factor))\n",
    "\n",
    "        pygame.draw.rect(self.window, (255, 0, 0),\n",
    "                         (self.food[1] * self.scale_factor, self.food[0] * self.scale_factor,\n",
    "                          self.scale_factor, self.scale_factor))\n",
    "\n",
    "        pygame.display.flip()"
   ]
  },
  {
   "cell_type": "code",
   "execution_count": null,
   "id": "9d1708e87d4c9a4a",
   "metadata": {
    "ExecuteTime": {
     "end_time": "2023-10-15T07:23:39.145584200Z",
     "start_time": "2023-10-15T07:23:38.705342100Z"
    },
    "collapsed": false,
    "jupyter": {
     "outputs_hidden": false
    }
   },
   "outputs": [
    {
     "ename": "",
     "evalue": "",
     "output_type": "error",
     "traceback": [
      "\u001b[1;31mFailed to connect to the remote Jupyter Server 'http://localhost/'. Verify the server is running and reachable. (Kernel not initialized in Session)."
     ]
    }
   ],
   "source": [
    "from ray.tune.registry import register_env\n",
    "register_env(\"snake\", SnakeEnv)"
   ]
  },
  {
   "cell_type": "code",
   "execution_count": null,
   "id": "ee3005d5568896e9",
   "metadata": {
    "ExecuteTime": {
     "end_time": "2023-10-15T07:23:40.360247300Z",
     "start_time": "2023-10-15T07:23:39.148583300Z"
    },
    "collapsed": false,
    "jupyter": {
     "outputs_hidden": false
    }
   },
   "outputs": [
    {
     "ename": "",
     "evalue": "",
     "output_type": "error",
     "traceback": [
      "\u001b[1;31mFailed to connect to the remote Jupyter Server 'http://localhost/'. Verify the server is running and reachable. (Kernel not initialized in Session)."
     ]
    }
   ],
   "source": [
    "import ray\n",
    "from ray import tune,air\n",
    "from ray.rllib.algorithms.algorithm_config import AlgorithmConfig\n",
    "from ray.rllib.algorithms.callbacks import MemoryTrackingCallbacks\n",
    "from ray.tune.logger import LoggerCallback\n",
    "from ray.air import session\n",
    "\n",
    "\n",
    "class RewardLoggerCallback(LoggerCallback):\n",
    "    def __init__(self) -> None:\n",
    "        self.results = []\n",
    "\n",
    "    def log_trial_result(self, iteration: int, trial, result):\n",
    "        reward = result  # assuming 'reward' is your reward key\n",
    "        self.results.append(reward)\n",
    "\n",
    "callback = RewardLoggerCallback()\n",
    "\n",
    "stopping_criterion = {\"training_iteration\": 50}"
   ]
  },
  {
   "cell_type": "code",
   "execution_count": null,
   "id": "5c6b98cfc06faf15",
   "metadata": {
    "ExecuteTime": {
     "end_time": "2023-10-15T07:23:42.779167500Z",
     "start_time": "2023-10-15T07:23:40.362862300Z"
    },
    "collapsed": false,
    "jupyter": {
     "outputs_hidden": false
    }
   },
   "outputs": [
    {
     "ename": "",
     "evalue": "",
     "output_type": "error",
     "traceback": [
      "\u001b[1;31mFailed to connect to the remote Jupyter Server 'http://localhost/'. Verify the server is running and reachable. (Kernel not initialized in Session)."
     ]
    }
   ],
   "source": [
    "context = ray.init(ignore_reinit_error=True)"
   ]
  },
  {
   "cell_type": "code",
   "execution_count": null,
   "id": "89d55beb9e2785b0",
   "metadata": {
    "collapsed": false,
    "jupyter": {
     "outputs_hidden": false
    }
   },
   "outputs": [
    {
     "ename": "",
     "evalue": "",
     "output_type": "error",
     "traceback": [
      "\u001b[1;31mFailed to connect to the remote Jupyter Server 'http://localhost/'. Verify the server is running and reachable. (Kernel not initialized in Session)."
     ]
    }
   ],
   "source": [
    "tuner = tune.Tuner(\n",
    "    \"PPO\",\n",
    "    param_space={\n",
    "        \"env\": \"snake\",\n",
    "        \"framework\": \"torch\",\n",
    "        \"num_gpus\": 0,\n",
    "        \"num_workers\":1,\n",
    "        \"should_checkpoint\": True,\n",
    "    },\n",
    "    run_config=air.RunConfig(\n",
    "        stop=stopping_criterion,callbacks=[callback],\n",
    "        checkpoint_config=air.CheckpointConfig(checkpoint_frequency=1),\n",
    "        ),\n",
    ")\n",
    "results = tuner.fit()\n",
    "ray.shutdown()"
   ]
  },
  {
   "cell_type": "code",
   "execution_count": null,
   "id": "973b5b24e19c41bb",
   "metadata": {
    "ExecuteTime": {
     "end_time": "2023-10-15T07:24:33.631332600Z",
     "start_time": "2023-10-15T07:24:33.625332800Z"
    },
    "collapsed": false,
    "jupyter": {
     "outputs_hidden": false
    }
   },
   "outputs": [
    {
     "ename": "",
     "evalue": "",
     "output_type": "error",
     "traceback": [
      "\u001b[1;31mFailed to connect to the remote Jupyter Server 'http://localhost/'. Verify the server is running and reachable. (Kernel not initialized in Session)."
     ]
    }
   ],
   "source": []
  }
 ],
 "metadata": {
  "kernelspec": {
   "display_name": "Python 3 (ipykernel)",
   "language": "python",
   "name": "python3"
  },
  "language_info": {
   "name": ""
  }
 },
 "nbformat": 4,
 "nbformat_minor": 5
}

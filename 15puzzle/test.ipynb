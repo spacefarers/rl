{
 "cells": [
  {
   "cell_type": "code",
   "execution_count": 1,
   "metadata": {
    "ExecuteTime": {
     "end_time": "2023-08-09T17:02:45.683114Z",
     "start_time": "2023-08-09T17:02:45.681651Z"
    }
   },
   "outputs": [],
   "source": [
    "import numpy as np\n",
    "\n",
    "goal_state=np.arange(1,17).reshape(4,4)\n",
    "def calculate_manhattan_distance(current_pos,goal_pos):\n",
    "\treturn abs(current_pos[0]-goal_pos[0])+abs(current_pos[1]-goal_pos[1])\n",
    "\n",
    "def find_tile_position(grid,tile):\n",
    "\trow,col=np.where(grid==tile)\n",
    "\treturn row[0],col[0]\n",
    "\n",
    "def total_manhattan_distance(current_state):\n",
    "\ttotal_manhattan_distance=0\n",
    "\tfor num in range(1,16):\n",
    "\t\tcurrent_pos=find_tile_position(current_state,num)\n",
    "\t\tgoal_pos=find_tile_position(goal_state,num)\n",
    "\t\ttotal_manhattan_distance+=calculate_manhattan_distance(current_pos,goal_pos)\n",
    "\treturn total_manhattan_distance\n",
    "\n",
    "def is_solvable(state):\n",
    "    permutation = state.flatten()\n",
    "    inversions = 0\n",
    "    for i in range(len(permutation)):\n",
    "        for j in range(i + 1, len(permutation)):\n",
    "            if permutation[i] == 0 or permutation[j] == 0:\n",
    "                continue\n",
    "            if permutation[i] > permutation[j]:\n",
    "                inversions += 1\n",
    "    num_rows = state.shape[0]\n",
    "    if num_rows % 2 == 0:\n",
    "        empty_row = np.where(state == 0)[0][0]\n",
    "        return (inversions + empty_row) % 2 == 0\n",
    "    else:\n",
    "        return inversions % 2 == 0"
   ]
  },
  {
   "cell_type": "code",
   "execution_count": 2,
   "metadata": {
    "ExecuteTime": {
     "end_time": "2023-08-09T17:02:45.721562Z",
     "start_time": "2023-08-09T17:02:45.683025Z"
    }
   },
   "outputs": [],
   "source": [
    "import gymnasium as gym\n",
    "from gymnasium.spaces import Discrete,Box,Tuple\n",
    "from gymnasium.utils import seeding\n",
    "\n",
    "class FifteenPuzzleEnv(gym.Env):\n",
    "\tdef __init__(self,config=None):\n",
    "\t\tself.current_steps=0\n",
    "\t\tself.max_episode_steps=100\n",
    "\t\tself.action_space=Discrete(4)  # 0: left, 1: up, 2: right, 3: down\n",
    "\t\tself.grid_size=4\n",
    "\t\tself.observation_space=Tuple((Box(low=0,high=self.grid_size**2-1,shape=(self.grid_size,self.grid_size),dtype=np.int32),\n",
    "\t\t\t\t\t\t\t\t\t Box(low=0,high=self.grid_size**2-1,shape=(self.grid_size,self.grid_size),dtype=np.int32),\n",
    "\t\t\t\t\t\t\t\t\t Box(low=0,high=self.grid_size-1,shape=(2,),dtype=np.int32),))\n",
    "\t\tself.seed()\n",
    "\t\tself.reset()\n",
    "\n",
    "\tdef seed(self,seed=None):\n",
    "\t\tself.np_random,seed=seeding.np_random(seed)\n",
    "\t\treturn [seed]\n",
    "\n",
    "\tdef reset(self,seed=None,options=None):\n",
    "\t\tself.state=np.arange(self.grid_size**2)\n",
    "\t\tself.np_random.shuffle(self.state)\n",
    "\t\twhile not is_solvable(self.state):\n",
    "\t\t\tself.np_random.shuffle(self.state)\n",
    "\t\tself.current_steps=0\n",
    "\t\tself.state=self.state.reshape((self.grid_size,self.grid_size))\n",
    "\t\tself.zero_pos=np.argwhere(self.state==0)[0]\n",
    "\t\treturn (self.state,self.state,self.zero_pos),{}\n",
    "\n",
    "\tdef step(self,action):\n",
    "\t\tprevious_state = self.state.copy()\n",
    "\t\tself.current_steps+=1\n",
    "\t\tdistance_1=total_manhattan_distance(self.state)\n",
    "\t\tvalid_move=self.move(action)\n",
    "\t\td=self.is_solved() or self.current_steps>=self.max_episode_steps\n",
    "\t\tdistance_2=total_manhattan_distance(self.state)\n",
    "\t\tr=-distance_2/5+np.sum(self.state==goal_state)*5\n",
    "\t\tif not valid_move:\n",
    "\t\t\tr-=5\n",
    "\t\treturn (previous_state,self.state,self.zero_pos),r,d,False,{}\n",
    "\n",
    "\tdef move(self,action):\n",
    "\t\tnew_zero_pos=np.array(self.zero_pos)\n",
    "\t\tif action==0:  # left\n",
    "\t\t\tnew_zero_pos[1]-=1\n",
    "\t\telif action==1:  # up\n",
    "\t\t\tnew_zero_pos[0]-=1\n",
    "\t\telif action==2:  # right\n",
    "\t\t\tnew_zero_pos[1]+=1\n",
    "\t\telif action==3:  # down\n",
    "\t\t\tnew_zero_pos[0]+=1\n",
    "\n",
    "\t\tif (0<=new_zero_pos[0]<self.grid_size) and (0<=new_zero_pos[1]<self.grid_size):\n",
    "\t\t\tself.state[self.zero_pos[0],self.zero_pos[1]],self.state[new_zero_pos[0],new_zero_pos[1]]=(\n",
    "\t\t\t\tself.state[new_zero_pos[0],new_zero_pos[1]],\n",
    "\t\t\t\tself.state[self.zero_pos[0],self.zero_pos[1]],\n",
    "\t\t\t)\n",
    "\t\t\tself.zero_pos=new_zero_pos\n",
    "\t\t\treturn True\n",
    "\t\telse:\n",
    "\t\t\treturn False\n",
    "\n",
    "\tdef is_solved(self):\n",
    "\t\tgoal_state=np.arange(1,17).reshape((self.grid_size,self.grid_size))\n",
    "\t\tgoal_state[3][3]=0\n",
    "\t\treturn np.array_equal(self.state,goal_state)"
   ]
  },
  {
   "cell_type": "code",
   "execution_count": 3,
   "metadata": {
    "ExecuteTime": {
     "end_time": "2023-08-09T17:02:45.723512Z",
     "start_time": "2023-08-09T17:02:45.720826Z"
    },
    "collapsed": false
   },
   "outputs": [],
   "source": [
    "env = FifteenPuzzleEnv()\n",
    "obs,_ = env.reset()"
   ]
  },
  {
   "cell_type": "code",
   "execution_count": 4,
   "metadata": {
    "ExecuteTime": {
     "end_time": "2023-08-09T17:05:35.942795Z",
     "start_time": "2023-08-09T17:05:35.925572Z"
    },
    "collapsed": false
   },
   "outputs": [
    {
     "data": {
      "text/plain": [
       "((array([[ 9,  4, 15, 14],\n",
       "         [ 2, 12,  3,  6],\n",
       "         [ 7,  0, 10,  5],\n",
       "         [ 1, 11,  8, 13]]),\n",
       "  array([[ 9,  4, 15, 14],\n",
       "         [ 2, 12,  3,  6],\n",
       "         [ 0,  7, 10,  5],\n",
       "         [ 1, 11,  8, 13]]),\n",
       "  array([2, 0])),\n",
       " -7.6,\n",
       " False,\n",
       " False,\n",
       " {})"
      ]
     },
     "execution_count": 4,
     "metadata": {},
     "output_type": "execute_result"
    }
   ],
   "source": [
    "env.step(0)"
   ]
  },
  {
   "cell_type": "code",
   "execution_count": 8,
   "metadata": {
    "ExecuteTime": {
     "end_time": "2023-08-09T17:06:32.967577Z",
     "start_time": "2023-08-09T17:06:15.202452Z"
    },
    "collapsed": false
   },
   "outputs": [
    {
     "name": "stderr",
     "output_type": "stream",
     "text": [
      "2023-08-10 23:51:16,353\tINFO worker.py:1636 -- Started a local Ray instance.\n",
      "2023-08-10 23:51:17,010\tWARNING deprecation.py:50 -- DeprecationWarning: `rllib/algorithms/a3c/a3c.py` has been deprecated. Use `rllib_contrib/a3c/` instead. This will raise an error in the future!\n",
      "2023-08-10 23:51:17,011\tWARNING deprecation.py:50 -- DeprecationWarning: `rllib/algorithms/a3c/a3c.py` has been deprecated. Use `rllib_contrib/a3c/` instead. This will raise an error in the future!\n",
      "2023-08-10 23:51:17,019\tWARNING deprecation.py:50 -- DeprecationWarning: `rllib/algorithms/maml/maml.py` has been deprecated. Use `rllib_contrib/maml/` instead. This will raise an error in the future!\n"
     ]
    },
    {
     "data": {
      "text/html": [
       "<div class=\"tuneStatus\">\n",
       "  <div style=\"display: flex;flex-direction: row\">\n",
       "    <div style=\"display: flex;flex-direction: column;\">\n",
       "      <h3>Tune Status</h3>\n",
       "      <table>\n",
       "<tbody>\n",
       "<tr><td>Current time:</td><td>2023-08-11 00:07:56</td></tr>\n",
       "<tr><td>Running for: </td><td>00:16:39.73        </td></tr>\n",
       "<tr><td>Memory:      </td><td>16.8/32.0 GiB      </td></tr>\n",
       "</tbody>\n",
       "</table>\n",
       "    </div>\n",
       "    <div class=\"vDivider\"></div>\n",
       "    <div class=\"systemInfo\">\n",
       "      <h3>System Info</h3>\n",
       "      Using FIFO scheduling algorithm.<br>Logical resource usage: 10.0/10 CPUs, 0/0 GPUs\n",
       "    </div>\n",
       "    \n",
       "  </div>\n",
       "  <div class=\"hDivider\"></div>\n",
       "  <div class=\"trialStatus\">\n",
       "    <h3>Trial Status</h3>\n",
       "    <table>\n",
       "<thead>\n",
       "<tr><th>Trial name        </th><th>status    </th><th>loc            </th><th style=\"text-align: right;\">  iter</th><th style=\"text-align: right;\">  total time (s)</th><th style=\"text-align: right;\">    ts</th><th style=\"text-align: right;\">  reward</th><th style=\"text-align: right;\">  episode_reward_max</th><th style=\"text-align: right;\">  episode_reward_min</th><th style=\"text-align: right;\">  episode_len_mean</th></tr>\n",
       "</thead>\n",
       "<tbody>\n",
       "<tr><td>PPO_fp_bddfa_00000</td><td>TERMINATED</td><td>127.0.0.1:33104</td><td style=\"text-align: right;\">   200</td><td style=\"text-align: right;\">         988.181</td><td style=\"text-align: right;\">800000</td><td style=\"text-align: right;\">-364.498</td><td style=\"text-align: right;\">              1952.8</td><td style=\"text-align: right;\">             -1117.4</td><td style=\"text-align: right;\">               100</td></tr>\n",
       "</tbody>\n",
       "</table>\n",
       "  </div>\n",
       "</div>\n",
       "<style>\n",
       ".tuneStatus {\n",
       "  color: var(--jp-ui-font-color1);\n",
       "}\n",
       ".tuneStatus .systemInfo {\n",
       "  display: flex;\n",
       "  flex-direction: column;\n",
       "}\n",
       ".tuneStatus td {\n",
       "  white-space: nowrap;\n",
       "}\n",
       ".tuneStatus .trialStatus {\n",
       "  display: flex;\n",
       "  flex-direction: column;\n",
       "}\n",
       ".tuneStatus h3 {\n",
       "  font-weight: bold;\n",
       "}\n",
       ".tuneStatus .hDivider {\n",
       "  border-bottom-width: var(--jp-border-width);\n",
       "  border-bottom-color: var(--jp-border-color0);\n",
       "  border-bottom-style: solid;\n",
       "}\n",
       ".tuneStatus .vDivider {\n",
       "  border-left-width: var(--jp-border-width);\n",
       "  border-left-color: var(--jp-border-color0);\n",
       "  border-left-style: solid;\n",
       "  margin: 0.5em 1em 0.5em 1em;\n",
       "}\n",
       "</style>\n"
      ],
      "text/plain": [
       "<IPython.core.display.HTML object>"
      ]
     },
     "metadata": {},
     "output_type": "display_data"
    },
    {
     "data": {
      "text/html": [
       "<div class=\"trialProgress\">\n",
       "  <h3>Trial Progress</h3>\n",
       "  <table>\n",
       "<thead>\n",
       "<tr><th>Trial name        </th><th style=\"text-align: right;\">  agent_timesteps_total</th><th>connector_metrics                                                                                                                                               </th><th>counters                                                                                                                                </th><th>custom_metrics  </th><th>date               </th><th>done  </th><th style=\"text-align: right;\">  episode_len_mean</th><th>episode_media  </th><th style=\"text-align: right;\">  episode_reward_max</th><th style=\"text-align: right;\">  episode_reward_mean</th><th style=\"text-align: right;\">  episode_reward_min</th><th style=\"text-align: right;\">  episodes_this_iter</th><th style=\"text-align: right;\">  episodes_total</th><th>hostname        </th><th>info                                                                                                                                                                                                                                                                                                                                                                                                                                                                                                                                                                                                                                                                                                                      </th><th style=\"text-align: right;\">  iterations_since_restore</th><th>node_ip  </th><th style=\"text-align: right;\">  num_agent_steps_sampled</th><th style=\"text-align: right;\">  num_agent_steps_trained</th><th style=\"text-align: right;\">  num_env_steps_sampled</th><th style=\"text-align: right;\">  num_env_steps_sampled_this_iter</th><th style=\"text-align: right;\">  num_env_steps_sampled_throughput_per_sec</th><th style=\"text-align: right;\">  num_env_steps_trained</th><th style=\"text-align: right;\">  num_env_steps_trained_this_iter</th><th style=\"text-align: right;\">  num_env_steps_trained_throughput_per_sec</th><th style=\"text-align: right;\">  num_faulty_episodes</th><th style=\"text-align: right;\">  num_healthy_workers</th><th style=\"text-align: right;\">  num_in_flight_async_reqs</th><th style=\"text-align: right;\">  num_remote_worker_restarts</th><th style=\"text-align: right;\">  num_steps_trained_this_iter</th><th>perf                                                             </th><th style=\"text-align: right;\">  pid</th><th>policy_reward_max  </th><th>policy_reward_mean  </th><th>policy_reward_min  </th><th>sampler_perf                                                                                                                                                                                                 </th><th>sampler_results                                                                                                                                                                                                                                                                                                                                                                                                                                                                                                                                                                                                                                                                                                                                                                                                                                                                                                                                                                                                                                                                                                                                                                                                                                                                                                                                                                                                                                                                                                                                                                                                                                                                                                                                                                                                                                                                                                                                                                                                                                                                                                                                                                                                                                                                                                                                                                                                                                                                                                                                                                                                                                                                                                                                                                                                                                                                                                                                                                                                                                                                                                                                                                                                                                          </th><th style=\"text-align: right;\">  time_since_restore</th><th style=\"text-align: right;\">  time_this_iter_s</th><th style=\"text-align: right;\">  time_total_s</th><th>timers                                                                                                                                                                                                            </th><th style=\"text-align: right;\">  timestamp</th><th style=\"text-align: right;\">  timesteps_total</th><th style=\"text-align: right;\">  training_iteration</th><th>trial_id   </th></tr>\n",
       "</thead>\n",
       "<tbody>\n",
       "<tr><td>PPO_fp_bddfa_00000</td><td style=\"text-align: right;\">                 800000</td><td>{&#x27;ObsPreprocessorConnector_ms&#x27;: 0.009552240371704102, &#x27;StateBufferConnector_ms&#x27;: 0.0028672218322753906, &#x27;ViewRequirementAgentConnector_ms&#x27;: 0.05671286582946777}</td><td>{&#x27;num_env_steps_sampled&#x27;: 800000, &#x27;num_env_steps_trained&#x27;: 800000, &#x27;num_agent_steps_sampled&#x27;: 800000, &#x27;num_agent_steps_trained&#x27;: 800000}</td><td>{}              </td><td>2023-08-11_00-07-56</td><td>True  </td><td style=\"text-align: right;\">               100</td><td>{}             </td><td style=\"text-align: right;\">              1952.8</td><td style=\"text-align: right;\">             -364.498</td><td style=\"text-align: right;\">             -1117.4</td><td style=\"text-align: right;\">                  45</td><td style=\"text-align: right;\">            8000</td><td>michaelmbp.local</td><td>{&#x27;learner&#x27;: {&#x27;default_policy&#x27;: {&#x27;learner_stats&#x27;: {&#x27;allreduce_latency&#x27;: 0.0, &#x27;grad_gnorm&#x27;: 3.22104707065449, &#x27;cur_kl_coeff&#x27;: 0.6750000000000002, &#x27;cur_lr&#x27;: 5.0000000000000016e-05, &#x27;total_loss&#x27;: 9.768115587131952, &#x27;policy_loss&#x27;: -0.05133356688849588, &#x27;vf_loss&#x27;: 9.808852341354534, &#x27;vf_explained_var&#x27;: -0.018175522165913737, &#x27;kl&#x27;: 0.015698930684537576, &#x27;entropy&#x27;: 0.7244146464973368, &#x27;entropy_coeff&#x27;: 0.0}, &#x27;model&#x27;: {}, &#x27;custom_metrics&#x27;: {}, &#x27;num_agent_steps_trained&#x27;: 128.0, &#x27;num_grad_updates_lifetime&#x27;: 185535.5, &#x27;diff_num_grad_updates_vs_sampler_policy&#x27;: 464.5}}, &#x27;num_env_steps_sampled&#x27;: 800000, &#x27;num_env_steps_trained&#x27;: 800000, &#x27;num_agent_steps_sampled&#x27;: 800000, &#x27;num_agent_steps_trained&#x27;: 800000}</td><td style=\"text-align: right;\">                       200</td><td>127.0.0.1</td><td style=\"text-align: right;\">                   800000</td><td style=\"text-align: right;\">                   800000</td><td style=\"text-align: right;\">                 800000</td><td style=\"text-align: right;\">                             4000</td><td style=\"text-align: right;\">                                   832.707</td><td style=\"text-align: right;\">                 800000</td><td style=\"text-align: right;\">                             4000</td><td style=\"text-align: right;\">                                   832.707</td><td style=\"text-align: right;\">                    0</td><td style=\"text-align: right;\">                    9</td><td style=\"text-align: right;\">                         0</td><td style=\"text-align: right;\">                           0</td><td style=\"text-align: right;\">                         4000</td><td>{&#x27;cpu_util_percent&#x27;: 35.63333333333333, &#x27;ram_util_percent&#x27;: 58.0}</td><td style=\"text-align: right;\">33104</td><td>{}                 </td><td>{}                  </td><td>{}                 </td><td>{&#x27;mean_raw_obs_processing_ms&#x27;: 0.17920272597667153, &#x27;mean_inference_ms&#x27;: 1.0462285750371794, &#x27;mean_action_processing_ms&#x27;: 0.0685247944294271, &#x27;mean_env_wait_ms&#x27;: 0.1518738815169, &#x27;mean_env_render_ms&#x27;: 0.0}</td><td>{&#x27;episode_reward_max&#x27;: 1952.7999999999975, &#x27;episode_reward_min&#x27;: -1117.3999999999999, &#x27;episode_reward_mean&#x27;: -364.49800000000005, &#x27;episode_len_mean&#x27;: 100.0, &#x27;episode_media&#x27;: {}, &#x27;episodes_this_iter&#x27;: 45, &#x27;policy_reward_min&#x27;: {}, &#x27;policy_reward_max&#x27;: {}, &#x27;policy_reward_mean&#x27;: {}, &#x27;custom_metrics&#x27;: {}, &#x27;hist_stats&#x27;: {&#x27;episode_reward&#x27;: [674.0000000000001, 1472.200000000002, 139.19999999999996, -468.99999999999994, -818.4000000000005, -833.1999999999996, -329.19999999999925, 213.20000000000005, -640.8, 317.7999999999999, -205.2000000000002, -398.00000000000045, -362.79999999999956, -601.6, -741.8000000000003, -432.5999999999996, -981.3999999999997, -386.2, 295.00000000000057, -809.5999999999991, -898.5999999999998, 172.19999999999996, -595.1999999999996, 175.60000000000002, 1952.7999999999975, -676.4, -178.00000000000003, -217.79999999999984, 134.79999999999998, -830.3999999999996, -917.0000000000006, -849.3999999999996, -604.8000000000003, -424.99999999999994, -976.3999999999995, -437.59999999999974, -917.2, -348.39999999999986, -746.6, -176.80000000000004, -722.5999999999999, -311.3999999999992, -664.199999999999, -1008.8000000000002, -926.4000000000008, -746.0, -601.3999999999996, -137.60000000000005, -333.2000000000001, -41.39999999999995, 80.79999999999994, -101.19999999999995, -667.1999999999992, 313.9999999999998, -1117.3999999999999, -536.8, -779.8, -750.5999999999998, 635.8000000000004, -387.3999999999995, 185.4, -183.79999999999993, -87.20000000000005, -662.4000000000008, 359.99999999999955, -748.1999999999999, -482.1999999999993, 554.1999999999999, -81.20000000000003, -641.9999999999998, -705.0, -932.1999999999996, -867.8, -584.2000000000002, -599.5999999999997, -83.00000000000001, -349.6, -501.4000000000001, -465.3999999999999, -578.9999999999995, 736.6, -960.4000000000001, -99.39999999999992, -1093.4000000000005, -240.59999999999982, 907.399999999999, -850.4000000000003, -420.9999999999997, 626.0000000000002, -837.8000000000009, 203.1999999999999, -805.6000000000001, -334.79999999999995, -471.59999999999985, -454.7999999999998, 196.39999999999992, -989.0000000000014, -900.4000000000001, -1080.8000000000006, -1063.4000000000003], &#x27;episode_lengths&#x27;: [100, 100, 100, 100, 100, 100, 100, 100, 100, 100, 100, 100, 100, 100, 100, 100, 100, 100, 100, 100, 100, 100, 100, 100, 100, 100, 100, 100, 100, 100, 100, 100, 100, 100, 100, 100, 100, 100, 100, 100, 100, 100, 100, 100, 100, 100, 100, 100, 100, 100, 100, 100, 100, 100, 100, 100, 100, 100, 100, 100, 100, 100, 100, 100, 100, 100, 100, 100, 100, 100, 100, 100, 100, 100, 100, 100, 100, 100, 100, 100, 100, 100, 100, 100, 100, 100, 100, 100, 100, 100, 100, 100, 100, 100, 100, 100, 100, 100, 100, 100]}, &#x27;sampler_perf&#x27;: {&#x27;mean_raw_obs_processing_ms&#x27;: 0.17920272597667153, &#x27;mean_inference_ms&#x27;: 1.0462285750371794, &#x27;mean_action_processing_ms&#x27;: 0.0685247944294271, &#x27;mean_env_wait_ms&#x27;: 0.1518738815169, &#x27;mean_env_render_ms&#x27;: 0.0}, &#x27;num_faulty_episodes&#x27;: 0, &#x27;connector_metrics&#x27;: {&#x27;ObsPreprocessorConnector_ms&#x27;: 0.009552240371704102, &#x27;StateBufferConnector_ms&#x27;: 0.0028672218322753906, &#x27;ViewRequirementAgentConnector_ms&#x27;: 0.05671286582946777}}</td><td style=\"text-align: right;\">             988.181</td><td style=\"text-align: right;\">           4.80729</td><td style=\"text-align: right;\">       988.181</td><td>{&#x27;training_iteration_time_ms&#x27;: 4728.147, &#x27;sample_time_ms&#x27;: 656.207, &#x27;load_time_ms&#x27;: 0.315, &#x27;load_throughput&#x27;: 12683108.558, &#x27;learn_time_ms&#x27;: 4063.02, &#x27;learn_throughput&#x27;: 984.489, &#x27;synch_weights_time_ms&#x27;: 7.808}</td><td style=\"text-align: right;\"> 1691683676</td><td style=\"text-align: right;\">           800000</td><td style=\"text-align: right;\">                 200</td><td>bddfa_00000</td></tr>\n",
       "</tbody>\n",
       "</table>\n",
       "</div>\n",
       "<style>\n",
       ".trialProgress {\n",
       "  display: flex;\n",
       "  flex-direction: column;\n",
       "  color: var(--jp-ui-font-color1);\n",
       "}\n",
       ".trialProgress h3 {\n",
       "  font-weight: bold;\n",
       "}\n",
       ".trialProgress td {\n",
       "  white-space: nowrap;\n",
       "}\n",
       "</style>\n"
      ],
      "text/plain": [
       "<IPython.core.display.HTML object>"
      ]
     },
     "metadata": {},
     "output_type": "display_data"
    },
    {
     "name": "stderr",
     "output_type": "stream",
     "text": [
      "2023-08-11 00:07:56,760\tINFO tune.py:1111 -- Total run time: 999.74 seconds (999.65 seconds for the tuning loop).\n"
     ]
    }
   ],
   "source": [
    "import ray\n",
    "from ray import tune,air\n",
    "from ray.rllib.algorithms.algorithm_config import AlgorithmConfig\n",
    "from ray.rllib.algorithms.callbacks import MemoryTrackingCallbacks\n",
    "from ray.tune.logger import LoggerCallback\n",
    "from ray.air import session\n",
    "from ray.tune.registry import register_env\n",
    "\n",
    "register_env(\"fp\", lambda config: FifteenPuzzleEnv())\n",
    "\n",
    "\n",
    "class RewardLoggerCallback(LoggerCallback):\n",
    "\tdef __init__(self) -> None:\n",
    "\t\tself.results = []\n",
    "\n",
    "\tdef log_trial_result(self, iteration: int, trial, result):\n",
    "\t\treward = result  # assuming 'reward' is your reward key\n",
    "\t\tself.results.append(reward)\n",
    "\n",
    "callback = RewardLoggerCallback()\n",
    "\n",
    "stopping_criterion = {\"training_iteration\": 200}\n",
    "ray.init(ignore_reinit_error=True, log_to_driver=False)\n",
    "tuner = tune.Tuner(\n",
    "\t\"PPO\",\n",
    "\tparam_space={\n",
    "\t\t\"env\": \"fp\",\n",
    "\t\t\"framework\": \"torch\",\n",
    "\t\t\"num_gpus\": 0,\n",
    "\t\t\"num_workers\":9,\n",
    "\t\t# \"model\":{\n",
    "\t\t# \t\"fcnet_hiddens\":[512,512],\n",
    "\t\t# \t\"fcnet_activation\":\"relu\",\n",
    "\t\t# \t\"conv_filters\":[[16, [3, 3], 1], [32, [3, 3], 1], [512, [3, 3], 1]],\n",
    "\t\t# }\n",
    "\t},\n",
    "\trun_config=air.RunConfig(\n",
    "\t\tstop=stopping_criterion,callbacks=[callback],\n",
    "\t\tcheckpoint_config=air.CheckpointConfig(checkpoint_frequency=1),\n",
    "\t),\n",
    ")\n",
    "results = tuner.fit()\n",
    "ray.shutdown()"
   ]
  },
  {
   "cell_type": "code",
   "execution_count": 13,
   "metadata": {
    "ExecuteTime": {
     "end_time": "2023-08-09T17:05:16.195650Z",
     "start_time": "2023-08-09T17:05:15.946735Z"
    }
   },
   "outputs": [
    {
     "data": {
      "image/png": "[encoded data removed]",
      "text/plain": [
       "<Figure size 640x480 with 1 Axes>"
      ]
     },
     "metadata": {},
     "output_type": "display_data"
    }
   ],
   "source": [
    "import matplotlib.pyplot as plt\n",
    "\n",
    "rewards=[i[\"episode_reward_mean\"] for i in callback.results]\n",
    "\n",
    "plt.plot(rewards)\n",
    "plt.xlabel(\"Iteration\")\n",
    "plt.ylabel(\"Mean Reward\")\n",
    "plt.title(\"Reward vs. Iteration\")\n",
    "plt.show()"
   ]
  },
  {
   "cell_type": "code",
   "execution_count": 14,
   "metadata": {
    "ExecuteTime": {
     "end_time": "2023-08-09T17:05:16.197004Z",
     "start_time": "2023-08-09T17:05:16.195798Z"
    }
   },
   "outputs": [
    {
     "data": {
      "text/plain": [
       "[PPO_fp_a94a6_00000]"
      ]
     },
     "execution_count": 14,
     "metadata": {},
     "output_type": "execute_result"
    }
   ],
   "source": [
    "results._experiment_analysis.trials"
   ]
  },
  {
   "cell_type": "code",
   "execution_count": 15,
   "metadata": {
    "ExecuteTime": {
     "end_time": "2023-08-09T17:05:16.204837Z",
     "start_time": "2023-08-09T17:05:16.195854Z"
    }
   },
   "outputs": [],
   "source": [
    "# Get the best result\n",
    "best_result=results.get_best_result()\n",
    "\n",
    "# Get the best checkpoint\n",
    "best_checkpoint=best_result.checkpoint"
   ]
  },
  {
   "cell_type": "code",
   "execution_count": 16,
   "metadata": {
    "ExecuteTime": {
     "end_time": "2023-08-09T17:05:16.210253Z",
     "start_time": "2023-08-09T17:05:16.204784Z"
    }
   },
   "outputs": [
    {
     "data": {
      "text/plain": [
       "1"
      ]
     },
     "execution_count": 16,
     "metadata": {},
     "output_type": "execute_result"
    }
   ],
   "source": [
    "len(results)"
   ]
  },
  {
   "cell_type": "code",
   "execution_count": 10,
   "metadata": {
    "ExecuteTime": {
     "end_time": "2023-08-09T17:05:16.216075Z",
     "start_time": "2023-08-09T17:05:16.210165Z"
    }
   },
   "outputs": [
    {
     "data": {
      "text/plain": [
       "Result(\n",
       "  metrics={'custom_metrics': {}, 'episode_media': {}, 'info': {'learner': {'default_policy': {'learner_stats': {'allreduce_latency': 0.0, 'grad_gnorm': 3.719829128634545, 'cur_kl_coeff': 0.20000000000000004, 'cur_lr': 5.0000000000000016e-05, 'total_loss': 9.117000407557335, 'policy_loss': -0.03199405585645988, 'vf_loss': 9.14532443579807, 'vf_explained_var': -0.03642877590271734, 'kl': 0.01835032038512186, 'entropy': 0.9468010985723105, 'entropy_coeff': 0.0}, 'model': {}, 'custom_metrics': {}, 'num_agent_steps_trained': 128.0, 'num_grad_updates_lifetime': 35805.5, 'diff_num_grad_updates_vs_sampler_policy': 464.5}}, 'num_env_steps_sampled': 156000, 'num_env_steps_trained': 156000, 'num_agent_steps_sampled': 156000, 'num_agent_steps_trained': 156000}, 'sampler_results': {'episode_reward_max': -8.0, 'episode_reward_min': -444.0, 'episode_reward_mean': -118.78, 'episode_len_mean': 100.0, 'episode_media': {}, 'episodes_this_iter': 40, 'policy_reward_min': {}, 'policy_reward_max': {}, 'policy_reward_mean': {}, 'custom_metrics': {}, 'hist_stats': {'episode_reward': [-104.0, -136.0, -88.0, -80.0, -62.0, -144.0, -86.0, -128.0, -106.0, -76.0, -124.0, -68.0, -102.0, -26.0, -88.0, -252.0, -66.0, -124.0, -110.0, -56.0, -30.0, -174.0, -164.0, -62.0, -84.0, -100.0, -130.0, -96.0, -290.0, -148.0, -50.0, -82.0, -50.0, -98.0, -222.0, -70.0, -42.0, -68.0, -236.0, -96.0, -198.0, -142.0, -102.0, -138.0, -60.0, -118.0, -46.0, -104.0, -8.0, -64.0, -122.0, -44.0, -152.0, -126.0, -70.0, -148.0, -90.0, -166.0, -134.0, -16.0, -222.0, -138.0, -48.0, -42.0, -100.0, -250.0, -76.0, -134.0, -194.0, -120.0, -158.0, -62.0, -156.0, -238.0, -104.0, -142.0, -76.0, -82.0, -444.0, -84.0, -76.0, -112.0, -92.0, -136.0, -212.0, -82.0, -148.0, -68.0, -144.0, -188.0, -80.0, -88.0, -124.0, -120.0, -92.0, -218.0, -50.0, -222.0, -296.0, -94.0], 'episode_lengths': [100, 100, 100, 100, 100, 100, 100, 100, 100, 100, 100, 100, 100, 100, 100, 100, 100, 100, 100, 100, 100, 100, 100, 100, 100, 100, 100, 100, 100, 100, 100, 100, 100, 100, 100, 100, 100, 100, 100, 100, 100, 100, 100, 100, 100, 100, 100, 100, 100, 100, 100, 100, 100, 100, 100, 100, 100, 100, 100, 100, 100, 100, 100, 100, 100, 100, 100, 100, 100, 100, 100, 100, 100, 100, 100, 100, 100, 100, 100, 100, 100, 100, 100, 100, 100, 100, 100, 100, 100, 100, 100, 100, 100, 100, 100, 100, 100, 100, 100, 100]}, 'sampler_perf': {'mean_raw_obs_processing_ms': 0.13153464471715087, 'mean_inference_ms': 0.6453050719576481, 'mean_action_processing_ms': 0.05129550569304086, 'mean_env_wait_ms': 0.1264315752218489, 'mean_env_render_ms': 0.0}, 'num_faulty_episodes': 0, 'connector_metrics': {'ObsPreprocessorConnector_ms': 0.0074541568756103516, 'StateBufferConnector_ms': 0.0020072460174560547, 'ViewRequirementAgentConnector_ms': 0.046628713607788086}}, 'episode_reward_max': -8.0, 'episode_reward_min': -444.0, 'episode_reward_mean': -118.78, 'episode_len_mean': 100.0, 'episodes_this_iter': 40, 'policy_reward_min': {}, 'policy_reward_max': {}, 'policy_reward_mean': {}, 'hist_stats': {'episode_reward': [-104.0, -136.0, -88.0, -80.0, -62.0, -144.0, -86.0, -128.0, -106.0, -76.0, -124.0, -68.0, -102.0, -26.0, -88.0, -252.0, -66.0, -124.0, -110.0, -56.0, -30.0, -174.0, -164.0, -62.0, -84.0, -100.0, -130.0, -96.0, -290.0, -148.0, -50.0, -82.0, -50.0, -98.0, -222.0, -70.0, -42.0, -68.0, -236.0, -96.0, -198.0, -142.0, -102.0, -138.0, -60.0, -118.0, -46.0, -104.0, -8.0, -64.0, -122.0, -44.0, -152.0, -126.0, -70.0, -148.0, -90.0, -166.0, -134.0, -16.0, -222.0, -138.0, -48.0, -42.0, -100.0, -250.0, -76.0, -134.0, -194.0, -120.0, -158.0, -62.0, -156.0, -238.0, -104.0, -142.0, -76.0, -82.0, -444.0, -84.0, -76.0, -112.0, -92.0, -136.0, -212.0, -82.0, -148.0, -68.0, -144.0, -188.0, -80.0, -88.0, -124.0, -120.0, -92.0, -218.0, -50.0, -222.0, -296.0, -94.0], 'episode_lengths': [100, 100, 100, 100, 100, 100, 100, 100, 100, 100, 100, 100, 100, 100, 100, 100, 100, 100, 100, 100, 100, 100, 100, 100, 100, 100, 100, 100, 100, 100, 100, 100, 100, 100, 100, 100, 100, 100, 100, 100, 100, 100, 100, 100, 100, 100, 100, 100, 100, 100, 100, 100, 100, 100, 100, 100, 100, 100, 100, 100, 100, 100, 100, 100, 100, 100, 100, 100, 100, 100, 100, 100, 100, 100, 100, 100, 100, 100, 100, 100, 100, 100, 100, 100, 100, 100, 100, 100, 100, 100, 100, 100, 100, 100, 100, 100, 100, 100, 100, 100]}, 'sampler_perf': {'mean_raw_obs_processing_ms': 0.13153464471715087, 'mean_inference_ms': 0.6453050719576481, 'mean_action_processing_ms': 0.05129550569304086, 'mean_env_wait_ms': 0.1264315752218489, 'mean_env_render_ms': 0.0}, 'num_faulty_episodes': 0, 'connector_metrics': {'ObsPreprocessorConnector_ms': 0.0074541568756103516, 'StateBufferConnector_ms': 0.0020072460174560547, 'ViewRequirementAgentConnector_ms': 0.046628713607788086}, 'num_healthy_workers': 8, 'num_in_flight_async_reqs': 0, 'num_remote_worker_restarts': 0, 'num_agent_steps_sampled': 156000, 'num_agent_steps_trained': 156000, 'num_env_steps_sampled': 156000, 'num_env_steps_trained': 156000, 'num_env_steps_sampled_this_iter': 4000, 'num_env_steps_trained_this_iter': 4000, 'num_env_steps_sampled_throughput_per_sec': 1177.3436166123943, 'num_env_steps_trained_throughput_per_sec': 1177.3436166123943, 'num_steps_trained_this_iter': 4000, 'agent_timesteps_total': 156000, 'timers': {'training_iteration_time_ms': 3407.5, 'sample_time_ms': 648.431, 'load_time_ms': 0.159, 'load_throughput': 25160791.842, 'learn_time_ms': 2754.118, 'learn_throughput': 1452.371, 'synch_weights_time_ms': 4.467}, 'counters': {'num_env_steps_sampled': 156000, 'num_env_steps_trained': 156000, 'num_agent_steps_sampled': 156000, 'num_agent_steps_trained': 156000}, 'done': False, 'trial_id': '9221b_00000', 'perf': {'cpu_util_percent': 9.78, 'ram_util_percent': 33.6, 'gpu_util_percent0': 0.0, 'vram_util_percent0': 0.08243815104166667}, 'experiment_tag': '0'},\n",
       "  path='/home/spacefarers/ray_results/PPO/PPO_fp_9221b_00000_0_2023-08-10_01-02-49',\n",
       "  checkpoint=Checkpoint(local_path=/home/spacefarers/ray_results/PPO/PPO_fp_9221b_00000_0_2023-08-10_01-02-49/checkpoint_000039)\n",
       ")"
      ]
     },
     "execution_count": 10,
     "metadata": {},
     "output_type": "execute_result"
    }
   ],
   "source": [
    "best_result"
   ]
  },
  {
   "cell_type": "code",
   "execution_count": 11,
   "metadata": {
    "ExecuteTime": {
     "end_time": "2023-08-09T17:05:21.051563Z",
     "start_time": "2023-08-09T17:05:16.216220Z"
    }
   },
   "outputs": [
    {
     "name": "stderr",
     "output_type": "stream",
     "text": [
      "/home/spacefarers/.local/lib/python3.10/site-packages/ray/rllib/algorithms/algorithm.py:442: RayDeprecationWarning: This API is deprecated and may be removed in future Ray releases. You could suppress this warning by setting env variable PYTHONWARNINGS=\"ignore::DeprecationWarning\"\n",
      "`UnifiedLogger` will be removed in Ray 2.7.\n",
      "  return UnifiedLogger(config, logdir, loggers=None)\n",
      "/home/spacefarers/.local/lib/python3.10/site-packages/ray/tune/logger/unified.py:53: RayDeprecationWarning: This API is deprecated and may be removed in future Ray releases. You could suppress this warning by setting env variable PYTHONWARNINGS=\"ignore::DeprecationWarning\"\n",
      "The `JsonLogger interface is deprecated in favor of the `ray.tune.json.JsonLoggerCallback` interface and will be removed in Ray 2.7.\n",
      "  self._loggers.append(cls(self.config, self.logdir, self.trial))\n",
      "/home/spacefarers/.local/lib/python3.10/site-packages/ray/tune/logger/unified.py:53: RayDeprecationWarning: This API is deprecated and may be removed in future Ray releases. You could suppress this warning by setting env variable PYTHONWARNINGS=\"ignore::DeprecationWarning\"\n",
      "The `CSVLogger interface is deprecated in favor of the `ray.tune.csv.CSVLoggerCallback` interface and will be removed in Ray 2.7.\n",
      "  self._loggers.append(cls(self.config, self.logdir, self.trial))\n",
      "/home/spacefarers/.local/lib/python3.10/site-packages/ray/tune/logger/unified.py:53: RayDeprecationWarning: This API is deprecated and may be removed in future Ray releases. You could suppress this warning by setting env variable PYTHONWARNINGS=\"ignore::DeprecationWarning\"\n",
      "The `TBXLogger interface is deprecated in favor of the `ray.tune.tensorboardx.TBXLoggerCallback` interface and will be removed in Ray 2.7.\n",
      "  self._loggers.append(cls(self.config, self.logdir, self.trial))\n",
      "2023-08-10 01:05:16,342\tINFO algorithm.py:536 -- Current log_level is WARN. For more information, set 'log_level': 'INFO' / 'DEBUG' or use the -v and -vv flags.\n",
      "2023-08-10 01:05:17,804\tINFO worker.py:1627 -- Started a local Ray instance. View the dashboard at \u001b[1m\u001b[32m127.0.0.1:8265 \u001b[39m\u001b[22m\n",
      "\u001b[2m\u001b[36m(RolloutWorker pid=100985)\u001b[0m 2023-08-10 01:05:20,687\tWARNING env.py:155 -- Your env doesn't have a .spec.max_episode_steps attribute. Your horizon will default to infinity, and your environment will not be reset.\n"
     ]
    }
   ],
   "source": [
    "from ray.rllib.algorithms.algorithm import Algorithm\n",
    "\n",
    "register_env(\"fp\",FifteenPuzzleEnv)\n",
    "algo=Algorithm.from_checkpoint(best_checkpoint)"
   ]
  },
  {
   "cell_type": "code",
   "execution_count": 12,
   "metadata": {
    "ExecuteTime": {
     "end_time": "2023-08-09T17:05:21.052524Z",
     "start_time": "2023-08-09T17:05:21.050712Z"
    }
   },
   "outputs": [],
   "source": [
    "from time import sleep\n",
    "\n",
    "obs=env.reset()[0]\n",
    "progression=[]\n",
    "done=False"
   ]
  },
  {
   "cell_type": "code",
   "execution_count": 13,
   "metadata": {
    "ExecuteTime": {
     "end_time": "2023-08-09T17:05:21.079829Z",
     "start_time": "2023-08-09T17:05:21.052817Z"
    }
   },
   "outputs": [
    {
     "data": {
      "text/plain": [
       "(array([[ 9,  6,  1,  2],\n",
       "        [ 3,  0,  5,  4],\n",
       "        [ 7, 12,  8, 15],\n",
       "        [14, 11, 10, 13]]),\n",
       " array([[ 9,  6,  1,  2],\n",
       "        [ 3,  0,  5,  4],\n",
       "        [ 7, 12,  8, 15],\n",
       "        [14, 11, 10, 13]]))"
      ]
     },
     "execution_count": 13,
     "metadata": {},
     "output_type": "execute_result"
    }
   ],
   "source": [
    "obs"
   ]
  },
  {
   "cell_type": "code",
   "execution_count": 14,
   "metadata": {
    "ExecuteTime": {
     "end_time": "2023-08-09T17:05:21.291334Z",
     "start_time": "2023-08-09T17:05:21.082569Z"
    }
   },
   "outputs": [
    {
     "name": "stdout",
     "output_type": "stream",
     "text": [
      "3\n",
      "-1\n"
     ]
    },
    {
     "ename": "TypeError",
     "evalue": "tuple indices must be integers or slices, not str",
     "output_type": "error",
     "traceback": [
      "\u001b[0;31m---------------------------------------------------------------------------\u001b[0m",
      "\u001b[0;31mTypeError\u001b[0m                                 Traceback (most recent call last)",
      "Cell \u001b[0;32mIn[14], line 8\u001b[0m\n\u001b[1;32m      6\u001b[0m \u001b[38;5;28mprint\u001b[39m(action)\n\u001b[1;32m      7\u001b[0m \u001b[38;5;28mprint\u001b[39m(reward)\n\u001b[0;32m----> 8\u001b[0m \u001b[38;5;28mprint\u001b[39m(\u001b[43mobs\u001b[49m\u001b[43m[\u001b[49m\u001b[38;5;124;43m'\u001b[39;49m\u001b[38;5;124;43mgrid\u001b[39;49m\u001b[38;5;124;43m'\u001b[39;49m\u001b[43m]\u001b[49m)\n\u001b[1;32m      9\u001b[0m sleep(\u001b[38;5;241m0.2\u001b[39m)\n\u001b[1;32m     10\u001b[0m clear_output(\u001b[38;5;28;01mTrue\u001b[39;00m)\n",
      "\u001b[0;31mTypeError\u001b[0m: tuple indices must be integers or slices, not str"
     ]
    }
   ],
   "source": [
    "from IPython.display import clear_output\n",
    "\n",
    "while not done:\n",
    "\taction=algo.compute_single_action(obs)\n",
    "\tobs,reward,done,info,ads=env.step(action)\n",
    "\tprint(action)\n",
    "\tprint(reward)\n",
    "\tprint(obs['grid'])\n",
    "\tsleep(0.2)\n",
    "\tclear_output(True)\n",
    "# progression.append(obs)"
   ]
  },
  {
   "cell_type": "code",
   "execution_count": null,
   "metadata": {},
   "outputs": [],
   "source": [
    "\n",
    "for i in progression:\n",
    "\tprint(i)\n",
    "\tsleep(1)\n",
    "\tclear_output(wait=True)"
   ]
  },
  {
   "cell_type": "code",
   "execution_count": null,
   "metadata": {},
   "outputs": [],
   "source": []
  }
 ],
 "metadata": {
  "kernelspec": {
   "display_name": "rl",
   "language": "python",
   "name": "python3"
  },
  "language_info": {
   "codemirror_mode": {
    "name": "ipython",
    "version": 3
   },
   "file_extension": ".py",
   "mimetype": "text/x-python",
   "name": "python",
   "nbconvert_exporter": "python",
   "pygments_lexer": "ipython3",
   "version": "3.10.0"
  }
 },
 "nbformat": 4,
 "nbformat_minor": 4
}

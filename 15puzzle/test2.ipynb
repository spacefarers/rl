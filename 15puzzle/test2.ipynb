{
 "cells": [
  {
   "cell_type": "code",
   "execution_count": 46,
   "metadata": {
    "ExecuteTime": {
     "end_time": "2023-08-09T12:50:49.711367Z",
     "start_time": "2023-08-09T12:50:49.698084Z"
    }
   },
   "outputs": [],
   "source": [
    "import numpy as np\n",
    "\n",
    "def calculate_manhattan_distance(current_pos,goal_pos):\n",
    "\treturn abs(current_pos[0]-goal_pos[0])+abs(current_pos[1]-goal_pos[1])\n",
    "\n",
    "def find_tile_position(grid,tile):\n",
    "\trow,col=np.where(grid==tile)\n",
    "\treturn row[0],col[0]\n",
    "\n",
    "def total_manhattan_distance(current_state):\n",
    "\tgoal_state=np.arange(1,17).reshape(4,4)\n",
    "\ttotal_manhattan_distance=0\n",
    "\tfor num in range(1,16):\n",
    "\t\tcurrent_pos=find_tile_position(current_state,num)\n",
    "\t\tgoal_pos=find_tile_position(goal_state,num)\n",
    "\t\ttotal_manhattan_distance+=calculate_manhattan_distance(current_pos,goal_pos)\n",
    "\treturn total_manhattan_distance"
   ]
  },
  {
   "cell_type": "code",
   "execution_count": 47,
   "metadata": {
    "ExecuteTime": {
     "end_time": "2023-08-09T12:50:49.895173Z",
     "start_time": "2023-08-09T12:50:49.883306Z"
    }
   },
   "outputs": [],
   "source": [
    "import gymnasium as gym\n",
    "from gymnasium.spaces import Discrete,Box,Dict\n",
    "from gymnasium.utils import seeding\n",
    "\n",
    "class FifteenPuzzleEnv(gym.Env):\n",
    "\tdef __init__(self,config=None):\n",
    "\t\tself.current_steps=0\n",
    "\t\tself.action_space=Discrete(4)  # 0: left, 1: up, 2: right, 3: down\n",
    "\t\tself.grid_size=4\n",
    "\t\tself.observation_space=Box(low=0,high=self.grid_size-1,shape=(self.grid_size,),dtype=np.int32)\n",
    "\t\tself.seed()\n",
    "\t\tself.reset()\n",
    "\n",
    "\tdef seed(self,seed=None):\n",
    "\t\tself.np_random,seed=seeding.np_random(seed)\n",
    "\t\treturn [seed]\n",
    "\n",
    "\tdef reset(self,seed=None,options=None):\n",
    "\t\tself._max_episode_steps=100\n",
    "\t\tself.current_steps=0\n",
    "\t\tself.state=np.arange(self.grid_size)\n",
    "\t\tself.np_random.shuffle(self.state)\n",
    "\t\tself.zero_pos=np.argwhere(self.state==0)[0]\n",
    "\t\tobs=self.state\n",
    "\t\treturn obs,{}\n",
    "\n",
    "\tdef step(self,action):\n",
    "\t\tself.current_steps+=1\n",
    "\t\tdistance_1=total_manhattan_distance(self.state)\n",
    "\t\tvalid_move=self.move(action)\n",
    "\t\td=self.is_solved() or self.current_steps>=self._max_episode_steps\n",
    "\t\tdistance_2=total_manhattan_distance(self.state)\n",
    "\t\tr=distance_1-distance_2\n",
    "\t\tif not valid_move:\n",
    "\t\t\tr-=5\n",
    "\t\tobs=self.state\n",
    "\t\treturn obs,r,d,False,{}\n",
    "\n",
    "\tdef move(self,action):\n",
    "\t\tnew_zero_pos=np.array(self.zero_pos)\n",
    "\t\tif action==0:  # left\n",
    "\t\t\tnew_zero_pos[1]-=1\n",
    "\t\telif action==1:  # up\n",
    "\t\t\tnew_zero_pos[0]-=1\n",
    "\t\telif action==2:  # right\n",
    "\t\t\tnew_zero_pos[1]+=1\n",
    "\t\telif action==3:  # down\n",
    "\t\t\tnew_zero_pos[0]+=1\n",
    "\n",
    "\t\tif (0<=new_zero_pos[0]<self.grid_size) and (0<=new_zero_pos[1]<self.grid_size):\n",
    "\t\t\tself.state[self.zero_pos[0],self.zero_pos[1]],self.state[new_zero_pos[0],new_zero_pos[1]]=(\n",
    "\t\t\t\tself.state[new_zero_pos[0],new_zero_pos[1]],\n",
    "\t\t\t\tself.state[self.zero_pos[0],self.zero_pos[1]],\n",
    "\t\t\t)\n",
    "\t\t\tself.zero_pos=new_zero_pos\n",
    "\t\t\treturn True\n",
    "\t\telse:\n",
    "\t\t\treturn False\n",
    "\n",
    "\tdef is_solved(self):\n",
    "\t\tgoal_state=np.arange(1,17).reshape((self.grid_size,self.grid_size))\n",
    "\t\tgoal_state[3][3]=0\n",
    "\t\treturn np.array_equal(self.state,goal_state)"
   ]
  },
  {
   "cell_type": "code",
   "execution_count": 48,
   "metadata": {
    "ExecuteTime": {
     "end_time": "2023-08-09T12:50:50.877012Z",
     "start_time": "2023-08-09T12:50:50.873634Z"
    }
   },
   "outputs": [],
   "source": [
    "env=FifteenPuzzleEnv()"
   ]
  },
  {
   "cell_type": "code",
   "execution_count": 49,
   "metadata": {
    "ExecuteTime": {
     "end_time": "2023-08-09T12:50:51.147300Z",
     "start_time": "2023-08-09T12:50:51.140123Z"
    }
   },
   "outputs": [
    {
     "data": {
      "text/plain": "({'position': array([3, 0]),\n  'grid': array([[ 7, 11,  4,  9],\n         [ 8,  1,  2, 14],\n         [ 6, 13,  5, 12],\n         [ 0, 10,  3, 15]])},\n {})"
     },
     "execution_count": 49,
     "metadata": {},
     "output_type": "execute_result"
    }
   ],
   "source": [
    "env.reset()"
   ]
  },
  {
   "cell_type": "code",
   "execution_count": 50,
   "metadata": {
    "ExecuteTime": {
     "end_time": "2023-08-09T12:50:52.327822Z",
     "start_time": "2023-08-09T12:50:52.316796Z"
    }
   },
   "outputs": [
    {
     "data": {
      "text/plain": "({'position': array([3, 0]),\n  'grid': array([[ 7, 11,  4,  9],\n         [ 8,  1,  2, 14],\n         [ 6, 13,  5, 12],\n         [ 0, 10,  3, 15]])},\n -5,\n False,\n False,\n {})"
     },
     "execution_count": 50,
     "metadata": {},
     "output_type": "execute_result"
    }
   ],
   "source": [
    "env.step(0)"
   ]
  },
  {
   "cell_type": "code",
   "execution_count": null,
   "metadata": {
    "is_executing": true,
    "ExecuteTime": {
     "start_time": "2023-08-09T12:59:05.526455Z"
    }
   },
   "outputs": [
    {
     "name": "stderr",
     "output_type": "stream",
     "text": [
      "2023-08-09 20:59:07,190\tINFO worker.py:1627 -- Started a local Ray instance. View the dashboard at \u001B[1m\u001B[32m127.0.0.1:8265 \u001B[39m\u001B[22m\n",
      "2023-08-09 20:59:07,671\tWARNING deprecation.py:50 -- DeprecationWarning: `rllib/algorithms/a3c/a3c.py` has been deprecated. Use `rllib_contrib/a3c/` instead. This will raise an error in the future!\n",
      "2023-08-09 20:59:07,672\tWARNING deprecation.py:50 -- DeprecationWarning: `rllib/algorithms/a3c/a3c.py` has been deprecated. Use `rllib_contrib/a3c/` instead. This will raise an error in the future!\n",
      "2023-08-09 20:59:07,675\tWARNING deprecation.py:50 -- DeprecationWarning: `rllib/algorithms/maml/maml.py` has been deprecated. Use `rllib_contrib/maml/` instead. This will raise an error in the future!\n"
     ]
    },
    {
     "data": {
      "text/plain": "<IPython.core.display.HTML object>",
      "text/html": ""
     },
     "metadata": {},
     "output_type": "display_data"
    },
    {
     "data": {
      "text/plain": "<IPython.core.display.HTML object>",
      "text/html": "<div class=\"trialProgress\">\n  <h3>Trial Progress</h3>\n  <table>\n<thead>\n<tr><th>Trial name        </th><th style=\"text-align: right;\">  agent_timesteps_total</th><th>connector_metrics  </th><th>counters                                                                                                                                                                            </th><th>custom_metrics  </th><th>date               </th><th>done  </th><th style=\"text-align: right;\">  episode_len_mean</th><th>episode_media  </th><th style=\"text-align: right;\">  episode_reward_max</th><th style=\"text-align: right;\">  episode_reward_mean</th><th style=\"text-align: right;\">  episode_reward_min</th><th style=\"text-align: right;\">  episodes_this_iter</th><th style=\"text-align: right;\">  episodes_total</th><th>hostname  </th><th>info  </th><th style=\"text-align: right;\">  iterations_since_restore</th><th>node_ip      </th><th style=\"text-align: right;\">  num_agent_steps_sampled</th><th style=\"text-align: right;\">  num_agent_steps_trained</th><th style=\"text-align: right;\">  num_env_steps_sampled</th><th style=\"text-align: right;\">  num_env_steps_sampled_this_iter</th><th style=\"text-align: right;\">  num_env_steps_sampled_throughput_per_sec</th><th style=\"text-align: right;\">  num_env_steps_trained</th><th style=\"text-align: right;\">  num_env_steps_trained_this_iter</th><th style=\"text-align: right;\">  num_env_steps_trained_throughput_per_sec</th><th style=\"text-align: right;\">  num_faulty_episodes</th><th style=\"text-align: right;\">  num_healthy_workers</th><th style=\"text-align: right;\">  num_in_flight_async_reqs</th><th style=\"text-align: right;\">  num_remote_worker_restarts</th><th style=\"text-align: right;\">  num_steps_trained_this_iter</th><th>perf                                                                                                                      </th><th style=\"text-align: right;\">  pid</th><th>policy_reward_max  </th><th>policy_reward_mean  </th><th>policy_reward_min  </th><th>sampler_perf  </th><th>sampler_results                                                                                                                                                                                                                                                                                                                                                                                </th><th style=\"text-align: right;\">  time_since_restore</th><th style=\"text-align: right;\">  time_this_iter_s</th><th style=\"text-align: right;\">  time_total_s</th><th>timers                                                                                                                                                                                                    </th><th style=\"text-align: right;\">  timestamp</th><th style=\"text-align: right;\">  timesteps_total</th><th style=\"text-align: right;\">  training_iteration</th><th>trial_id   </th></tr>\n</thead>\n<tbody>\n<tr><td>DQN_fp_86b09_00000</td><td style=\"text-align: right;\">                   1008</td><td>{}                 </td><td>{&#x27;num_env_steps_sampled&#x27;: 1008, &#x27;num_env_steps_trained&#x27;: 32, &#x27;num_agent_steps_sampled&#x27;: 1008, &#x27;num_agent_steps_trained&#x27;: 32, &#x27;last_target_update_ts&#x27;: 1008, &#x27;num_target_updates&#x27;: 1}</td><td>{}              </td><td>2023-08-09_20-59-15</td><td>False </td><td style=\"text-align: right;\">               nan</td><td>{}             </td><td style=\"text-align: right;\">                 nan</td><td style=\"text-align: right;\">                  nan</td><td style=\"text-align: right;\">                 nan</td><td style=\"text-align: right;\">                   0</td><td style=\"text-align: right;\">               0</td><td>home      </td><td>{&#x27;learner&#x27;: {&#x27;default_policy&#x27;: {&#x27;custom_metrics&#x27;: {}, &#x27;learner_stats&#x27;: {&#x27;mean_q&#x27;: -0.0009408624609932303, &#x27;min_q&#x27;: -0.017456362023949623, &#x27;max_q&#x27;: 0.009983371943235397, &#x27;cur_lr&#x27;: 0.0005}, &#x27;model&#x27;: {}, &#x27;num_grad_updates_lifetime&#x27;: 1.0, &#x27;diff_num_grad_updates_vs_sampler_policy&#x27;: 0.0, &#x27;td_error&#x27;: array([-1.0179287 ,  1.0001464 ,  0.9888821 , -1.0070841 , -1.0001776 ,\n       -1.0019795 , -1.0036741 ,  0.99434537,  5.0000277 ,  0.98634887,\n        0.99911815,  0.9970665 , -1.0018796 , -1.0153615 , -1.0025028 ,\n       -0.998718  ,  4.9943695 ,  4.990625  , -1.0054519 ,  0.9968226 ,\n        0.9977747 , -1.0005211 , -1.0112461 ,  5.0000634 ,  5.0001    ,\n       -1.0031964 ,  1.0010873 , -1.0116462 , -1.0118088 , -0.9991431 ,\n       -1.0130438 , -0.99800175], dtype=float32), &#x27;mean_td_error&#x27;: 0.49510666728019714}}, &#x27;num_env_steps_sampled&#x27;: 1008, &#x27;num_env_steps_trained&#x27;: 32, &#x27;num_agent_steps_sampled&#x27;: 1008, &#x27;num_agent_steps_trained&#x27;: 32, &#x27;last_target_update_ts&#x27;: 1008, &#x27;num_target_updates&#x27;: 1}       </td><td style=\"text-align: right;\">                         1</td><td>192.168.0.121</td><td style=\"text-align: right;\">                     1008</td><td style=\"text-align: right;\">                       32</td><td style=\"text-align: right;\">                   1008</td><td style=\"text-align: right;\">                             1008</td><td style=\"text-align: right;\">                                   2147.29</td><td style=\"text-align: right;\">                     32</td><td style=\"text-align: right;\">                               32</td><td style=\"text-align: right;\">                                   68.1681</td><td style=\"text-align: right;\">                    0</td><td style=\"text-align: right;\">                   18</td><td style=\"text-align: right;\">                         0</td><td style=\"text-align: right;\">                           0</td><td style=\"text-align: right;\">                           32</td><td>{&#x27;cpu_util_percent&#x27;: 53.5, &#x27;ram_util_percent&#x27;: 51.2, &#x27;gpu_util_percent0&#x27;: 0.01, &#x27;vram_util_percent0&#x27;: 0.15983072916666666}</td><td style=\"text-align: right;\">25921</td><td>{}                 </td><td>{}                  </td><td>{}                 </td><td>{}            </td><td>{&#x27;episode_reward_max&#x27;: nan, &#x27;episode_reward_min&#x27;: nan, &#x27;episode_reward_mean&#x27;: nan, &#x27;episode_len_mean&#x27;: nan, &#x27;episode_media&#x27;: {}, &#x27;episodes_this_iter&#x27;: 0, &#x27;policy_reward_min&#x27;: {}, &#x27;policy_reward_max&#x27;: {}, &#x27;policy_reward_mean&#x27;: {}, &#x27;custom_metrics&#x27;: {}, &#x27;hist_stats&#x27;: {&#x27;episode_reward&#x27;: [], &#x27;episode_lengths&#x27;: []}, &#x27;sampler_perf&#x27;: {}, &#x27;num_faulty_episodes&#x27;: 0, &#x27;connector_metrics&#x27;: {}}</td><td style=\"text-align: right;\">            0.474021</td><td style=\"text-align: right;\">          0.474021</td><td style=\"text-align: right;\">      0.474021</td><td>{&#x27;training_iteration_time_ms&#x27;: 11.601, &#x27;sample_time_ms&#x27;: 6.981, &#x27;load_time_ms&#x27;: 0.312, &#x27;load_throughput&#x27;: 102456.281, &#x27;learn_time_ms&#x27;: 5.79, &#x27;learn_throughput&#x27;: 5527.23, &#x27;synch_weights_time_ms&#x27;: 27.266}</td><td style=\"text-align: right;\"> 1691585955</td><td style=\"text-align: right;\">             1008</td><td style=\"text-align: right;\">                   1</td><td>86b09_00000</td></tr>\n</tbody>\n</table>\n</div>\n<style>\n.trialProgress {\n  display: flex;\n  flex-direction: column;\n  color: var(--jp-ui-font-color1);\n}\n.trialProgress h3 {\n  font-weight: bold;\n}\n.trialProgress td {\n  white-space: nowrap;\n}\n</style>\n"
     },
     "metadata": {},
     "output_type": "display_data"
    }
   ],
   "source": [
    "import ray\n",
    "from ray import tune,air\n",
    "from ray.rllib.algorithms.algorithm_config import AlgorithmConfig\n",
    "from ray.rllib.algorithms.callbacks import MemoryTrackingCallbacks\n",
    "from ray.tune.logger import LoggerCallback\n",
    "from ray.air import session\n",
    "from ray.tune.registry import register_env\n",
    "\n",
    "register_env(\"fp\",FifteenPuzzleEnv)\n",
    "\n",
    "class RewardLoggerCallback(LoggerCallback):\n",
    "\tdef __init__(self) -> None:\n",
    "\t\tself.results=[]\n",
    "\n",
    "\tdef log_trial_result(self,iteration: int,trial,result):\n",
    "\t\tself.results.append(result)\n",
    "\n",
    "callback=RewardLoggerCallback()\n",
    "\n",
    "stopping_criterion={\"training_iteration\":100}\n",
    "ray.init(ignore_reinit_error=True,log_to_driver=False)\n",
    "tuner=tune.Tuner(\n",
    "\t\"DQN\",\n",
    "\tparam_space={\n",
    "\t\t\"env\":\"fp\",\n",
    "\t\t\"framework\":\"torch\",\n",
    "\t\t\"num_gpus\":1,\n",
    "\t\t\"num_workers\":18,\n",
    "\t\t\"model\":{\n",
    "\t\t\t\"conv_filters\":[\n",
    "\t\t\t\t[32,3,1],\n",
    "\t\t\t\t[64,3,1],\n",
    "\t\t\t\t[128,3,1],\n",
    "\t\t\t],\n",
    "\n",
    "\t\t},\n",
    "\t},\n",
    "\trun_config=air.RunConfig(\n",
    "\t\tstop=stopping_criterion,callbacks=[callback],\n",
    "\t\tcheckpoint_config=air.CheckpointConfig(checkpoint_frequency=1),\n",
    "\t),\n",
    ")\n",
    "results=tuner.fit()\n",
    "ray.shutdown()"
   ]
  },
  {
   "cell_type": "code",
   "execution_count": 37,
   "metadata": {
    "ExecuteTime": {
     "end_time": "2023-08-09T12:47:50.177342Z",
     "start_time": "2023-08-09T12:47:50.027912Z"
    }
   },
   "outputs": [
    {
     "data": {
      "text/plain": "<Figure size 640x480 with 1 Axes>",
      "image/png": "[encoded data removed]"
     },
     "metadata": {},
     "output_type": "display_data"
    }
   ],
   "source": [
    "import matplotlib.pyplot as plt\n",
    "\n",
    "rewards=[i[\"episode_reward_mean\"] for i in callback.results]\n",
    "\n",
    "plt.plot(rewards)\n",
    "plt.xlabel(\"Iteration\")\n",
    "plt.ylabel(\"Mean Reward\")\n",
    "plt.title(\"Reward vs. Iteration\")\n",
    "plt.show()"
   ]
  },
  {
   "cell_type": "code",
   "execution_count": 38,
   "metadata": {
    "ExecuteTime": {
     "end_time": "2023-08-09T12:47:50.718086Z",
     "start_time": "2023-08-09T12:47:50.709561Z"
    }
   },
   "outputs": [
    {
     "data": {
      "text/plain": "[DQN_fp_d5f4e_00000]"
     },
     "execution_count": 38,
     "metadata": {},
     "output_type": "execute_result"
    }
   ],
   "source": [
    "results._experiment_analysis.trials"
   ]
  },
  {
   "cell_type": "code",
   "execution_count": 39,
   "metadata": {
    "ExecuteTime": {
     "end_time": "2023-08-09T12:47:51.048812Z",
     "start_time": "2023-08-09T12:47:51.034446Z"
    }
   },
   "outputs": [],
   "source": [
    "# Get the best result\n",
    "best_result=results.get_best_result()\n",
    "\n",
    "# Get the best checkpoint\n",
    "best_checkpoint=best_result.checkpoint"
   ]
  },
  {
   "cell_type": "code",
   "execution_count": 40,
   "metadata": {
    "ExecuteTime": {
     "end_time": "2023-08-09T12:47:51.307126Z",
     "start_time": "2023-08-09T12:47:51.301321Z"
    }
   },
   "outputs": [
    {
     "data": {
      "text/plain": "1"
     },
     "execution_count": 40,
     "metadata": {},
     "output_type": "execute_result"
    }
   ],
   "source": [
    "len(results)"
   ]
  },
  {
   "cell_type": "code",
   "execution_count": 41,
   "metadata": {
    "ExecuteTime": {
     "end_time": "2023-08-09T12:47:51.518095Z",
     "start_time": "2023-08-09T12:47:51.479328Z"
    }
   },
   "outputs": [
    {
     "data": {
      "text/plain": "Result(\n  metrics={'custom_metrics': {}, 'episode_media': {}, 'info': {'learner': {'default_policy': {'custom_metrics': {}, 'learner_stats': {'mean_q': 7.3733720779418945, 'min_q': 6.036434173583984, 'max_q': 9.18928050994873, 'cur_lr': 0.0005}, 'model': {}, 'num_grad_updates_lifetime': 5545.0, 'diff_num_grad_updates_vs_sampler_policy': 5544.0, 'td_error': array([-0.90943336, -0.54488945, -0.24522448, -0.32404995, -0.19506025,\n       -0.67254686,  0.52847624, -0.7419033 ,  0.27373123,  0.7542076 ,\n       -0.38305378, -0.37259054,  0.02908182,  0.0135293 ,  1.2016039 ,\n        0.90147305, -0.14030504, -0.23417187, -0.14595652, -0.05315018,\n        0.3555045 , -1.4146609 , -0.9725151 , -1.5343332 , -0.8353319 ,\n       -1.1461372 , -0.00497103, -0.64868975, -0.05153656,  0.8858285 ,\n       -0.51068354, -0.18714046], dtype=float32), 'mean_td_error': -0.22890309989452362}}, 'num_env_steps_sampled': 100800, 'num_env_steps_trained': 177440, 'num_agent_steps_sampled': 100800, 'num_agent_steps_trained': 177440, 'last_target_update_ts': 100800, 'num_target_updates': 199}, 'sampler_results': {'episode_reward_max': 14.0, 'episode_reward_min': -20.0, 'episode_reward_mean': 1.9, 'episode_len_mean': 100.0, 'episode_media': {}, 'episodes_this_iter': 18, 'policy_reward_min': {}, 'policy_reward_max': {}, 'policy_reward_mean': {}, 'custom_metrics': {}, 'hist_stats': {'episode_reward': [2.0, 4.0, -16.0, 4.0, 4.0, 8.0, -6.0, 2.0, 4.0, 0.0, -6.0, 6.0, 14.0, 14.0, -4.0, 4.0, 8.0, 2.0, 6.0, 10.0, 2.0, -2.0, -4.0, 2.0, -2.0, 2.0, 8.0, 8.0, 0.0, -4.0, -8.0, 4.0, 8.0, -6.0, 10.0, 10.0, 2.0, 4.0, 2.0, 0.0, 4.0, 10.0, 4.0, 4.0, 0.0, 4.0, 4.0, 4.0, 6.0, -2.0, 6.0, -4.0, 0.0, 12.0, 0.0, 12.0, -10.0, 4.0, -2.0, -2.0, 6.0, 0.0, -4.0, 6.0, 2.0, 6.0, -6.0, 4.0, -2.0, -20.0, 8.0, 12.0, 6.0, -4.0, 4.0, -6.0, 2.0, 8.0, 12.0, 6.0, 2.0, 2.0, 0.0, 4.0, 0.0, 4.0, -4.0, 6.0, -4.0, 0.0, -6.0, 2.0, 0.0, -4.0, 2.0, -2.0, -6.0, -4.0, 6.0, 2.0], 'episode_lengths': [100, 100, 100, 100, 100, 100, 100, 100, 100, 100, 100, 100, 100, 100, 100, 100, 100, 100, 100, 100, 100, 100, 100, 100, 100, 100, 100, 100, 100, 100, 100, 100, 100, 100, 100, 100, 100, 100, 100, 100, 100, 100, 100, 100, 100, 100, 100, 100, 100, 100, 100, 100, 100, 100, 100, 100, 100, 100, 100, 100, 100, 100, 100, 100, 100, 100, 100, 100, 100, 100, 100, 100, 100, 100, 100, 100, 100, 100, 100, 100, 100, 100, 100, 100, 100, 100, 100, 100, 100, 100, 100, 100, 100, 100, 100, 100, 100, 100, 100, 100]}, 'sampler_perf': {'mean_raw_obs_processing_ms': 0.706693979484832, 'mean_inference_ms': 1.7316372932988542, 'mean_action_processing_ms': 0.09837189995353338, 'mean_env_wait_ms': 0.2274552399284114, 'mean_env_render_ms': 0.0}, 'num_faulty_episodes': 0, 'connector_metrics': {'ObsPreprocessorConnector_ms': 0.03469991683959961, 'StateBufferConnector_ms': 0.0051076412200927734, 'ViewRequirementAgentConnector_ms': 0.13823795318603516}}, 'episode_reward_max': 14.0, 'episode_reward_min': -20.0, 'episode_reward_mean': 1.9, 'episode_len_mean': 100.0, 'episodes_this_iter': 18, 'policy_reward_min': {}, 'policy_reward_max': {}, 'policy_reward_mean': {}, 'hist_stats': {'episode_reward': [2.0, 4.0, -16.0, 4.0, 4.0, 8.0, -6.0, 2.0, 4.0, 0.0, -6.0, 6.0, 14.0, 14.0, -4.0, 4.0, 8.0, 2.0, 6.0, 10.0, 2.0, -2.0, -4.0, 2.0, -2.0, 2.0, 8.0, 8.0, 0.0, -4.0, -8.0, 4.0, 8.0, -6.0, 10.0, 10.0, 2.0, 4.0, 2.0, 0.0, 4.0, 10.0, 4.0, 4.0, 0.0, 4.0, 4.0, 4.0, 6.0, -2.0, 6.0, -4.0, 0.0, 12.0, 0.0, 12.0, -10.0, 4.0, -2.0, -2.0, 6.0, 0.0, -4.0, 6.0, 2.0, 6.0, -6.0, 4.0, -2.0, -20.0, 8.0, 12.0, 6.0, -4.0, 4.0, -6.0, 2.0, 8.0, 12.0, 6.0, 2.0, 2.0, 0.0, 4.0, 0.0, 4.0, -4.0, 6.0, -4.0, 0.0, -6.0, 2.0, 0.0, -4.0, 2.0, -2.0, -6.0, -4.0, 6.0, 2.0], 'episode_lengths': [100, 100, 100, 100, 100, 100, 100, 100, 100, 100, 100, 100, 100, 100, 100, 100, 100, 100, 100, 100, 100, 100, 100, 100, 100, 100, 100, 100, 100, 100, 100, 100, 100, 100, 100, 100, 100, 100, 100, 100, 100, 100, 100, 100, 100, 100, 100, 100, 100, 100, 100, 100, 100, 100, 100, 100, 100, 100, 100, 100, 100, 100, 100, 100, 100, 100, 100, 100, 100, 100, 100, 100, 100, 100, 100, 100, 100, 100, 100, 100, 100, 100, 100, 100, 100, 100, 100, 100, 100, 100, 100, 100, 100, 100, 100, 100, 100, 100, 100, 100]}, 'sampler_perf': {'mean_raw_obs_processing_ms': 0.706693979484832, 'mean_inference_ms': 1.7316372932988542, 'mean_action_processing_ms': 0.09837189995353338, 'mean_env_wait_ms': 0.2274552399284114, 'mean_env_render_ms': 0.0}, 'num_faulty_episodes': 0, 'connector_metrics': {'ObsPreprocessorConnector_ms': 0.03469991683959961, 'StateBufferConnector_ms': 0.0051076412200927734, 'ViewRequirementAgentConnector_ms': 0.13823795318603516}, 'num_healthy_workers': 18, 'num_in_flight_async_reqs': 0, 'num_remote_worker_restarts': 0, 'num_agent_steps_sampled': 100800, 'num_agent_steps_trained': 177440, 'num_env_steps_sampled': 100800, 'num_env_steps_trained': 177440, 'num_env_steps_sampled_this_iter': 1008, 'num_env_steps_trained_this_iter': 1792, 'num_env_steps_sampled_throughput_per_sec': 473.900037819117, 'num_env_steps_trained_throughput_per_sec': 842.4889561228747, 'num_steps_trained_this_iter': 1792, 'agent_timesteps_total': 100800, 'timers': {'training_iteration_time_ms': 38.215, 'sample_time_ms': 12.15, 'load_time_ms': 0.309, 'load_throughput': 103403.488, 'learn_time_ms': 4.155, 'learn_throughput': 7701.579, 'synch_weights_time_ms': 16.016}, 'counters': {'num_env_steps_sampled': 100800, 'num_env_steps_trained': 177440, 'num_agent_steps_sampled': 100800, 'num_agent_steps_trained': 177440, 'last_target_update_ts': 100800, 'num_target_updates': 199}, 'done': True, 'trial_id': 'd5f4e_00000', 'perf': {'cpu_util_percent': 34.36666666666667, 'ram_util_percent': 54.53333333333333, 'gpu_util_percent0': 0.03333333333333333, 'vram_util_percent0': 0.16739908854166666}, 'experiment_tag': '0'},\n  path='/home/spacefarers/ray_results/DQN/DQN_fp_d5f4e_00000_0_2023-08-09_20-32-42',\n  checkpoint=Checkpoint(local_path=/home/spacefarers/ray_results/DQN/DQN_fp_d5f4e_00000_0_2023-08-09_20-32-42/checkpoint_000100)\n)"
     },
     "execution_count": 41,
     "metadata": {},
     "output_type": "execute_result"
    }
   ],
   "source": [
    "best_result"
   ]
  },
  {
   "cell_type": "code",
   "execution_count": 42,
   "metadata": {
    "ExecuteTime": {
     "end_time": "2023-08-09T12:47:58.055266Z",
     "start_time": "2023-08-09T12:47:51.877701Z"
    }
   },
   "outputs": [
    {
     "name": "stderr",
     "output_type": "stream",
     "text": [
      "/home/spacefarers/.local/lib/python3.10/site-packages/ray/rllib/algorithms/algorithm.py:442: RayDeprecationWarning: This API is deprecated and may be removed in future Ray releases. You could suppress this warning by setting env variable PYTHONWARNINGS=\"ignore::DeprecationWarning\"\n",
      "`UnifiedLogger` will be removed in Ray 2.7.\n",
      "  return UnifiedLogger(config, logdir, loggers=None)\n",
      "/home/spacefarers/.local/lib/python3.10/site-packages/ray/tune/logger/unified.py:53: RayDeprecationWarning: This API is deprecated and may be removed in future Ray releases. You could suppress this warning by setting env variable PYTHONWARNINGS=\"ignore::DeprecationWarning\"\n",
      "The `JsonLogger interface is deprecated in favor of the `ray.tune.json.JsonLoggerCallback` interface and will be removed in Ray 2.7.\n",
      "  self._loggers.append(cls(self.config, self.logdir, self.trial))\n",
      "/home/spacefarers/.local/lib/python3.10/site-packages/ray/tune/logger/unified.py:53: RayDeprecationWarning: This API is deprecated and may be removed in future Ray releases. You could suppress this warning by setting env variable PYTHONWARNINGS=\"ignore::DeprecationWarning\"\n",
      "The `CSVLogger interface is deprecated in favor of the `ray.tune.csv.CSVLoggerCallback` interface and will be removed in Ray 2.7.\n",
      "  self._loggers.append(cls(self.config, self.logdir, self.trial))\n",
      "/home/spacefarers/.local/lib/python3.10/site-packages/ray/tune/logger/unified.py:53: RayDeprecationWarning: This API is deprecated and may be removed in future Ray releases. You could suppress this warning by setting env variable PYTHONWARNINGS=\"ignore::DeprecationWarning\"\n",
      "The `TBXLogger interface is deprecated in favor of the `ray.tune.tensorboardx.TBXLoggerCallback` interface and will be removed in Ray 2.7.\n",
      "  self._loggers.append(cls(self.config, self.logdir, self.trial))\n",
      "2023-08-09 20:47:53,530\tINFO worker.py:1627 -- Started a local Ray instance. View the dashboard at \u001B[1m\u001B[32m127.0.0.1:8265 \u001B[39m\u001B[22m\n",
      "\u001B[2m\u001B[36m(RolloutWorker pid=21345)\u001B[0m 2023-08-09 20:47:57,214\tWARNING env.py:155 -- Your env doesn't have a .spec.max_episode_steps attribute. Your horizon will default to infinity, and your environment will not be reset.\n"
     ]
    }
   ],
   "source": [
    "from ray.rllib.algorithms.algorithm import Algorithm\n",
    "\n",
    "register_env(\"fp\",FifteenPuzzleEnv)\n",
    "algo=Algorithm.from_checkpoint(best_checkpoint)"
   ]
  },
  {
   "cell_type": "code",
   "execution_count": 43,
   "metadata": {
    "ExecuteTime": {
     "end_time": "2023-08-09T12:47:58.056682Z",
     "start_time": "2023-08-09T12:47:58.049620Z"
    }
   },
   "outputs": [],
   "source": [
    "from time import sleep\n",
    "\n",
    "obs=env.reset()[0]\n",
    "progression=[]\n",
    "done=False"
   ]
  },
  {
   "cell_type": "code",
   "execution_count": 44,
   "metadata": {
    "ExecuteTime": {
     "end_time": "2023-08-09T12:47:58.057362Z",
     "start_time": "2023-08-09T12:47:58.056407Z"
    }
   },
   "outputs": [
    {
     "data": {
      "text/plain": "{'position': array([1, 3]),\n 'grid': array([[15,  2,  1,  4],\n        [ 8, 12, 14,  0],\n        [10,  9, 11,  5],\n        [13,  7,  6,  3]])}"
     },
     "execution_count": 44,
     "metadata": {},
     "output_type": "execute_result"
    }
   ],
   "source": [
    "obs"
   ]
  },
  {
   "cell_type": "code",
   "execution_count": 45,
   "metadata": {},
   "outputs": [
    {
     "name": "stdout",
     "output_type": "stream",
     "text": [
      "2\n",
      "1\n",
      "[[ 2  1  4  5]\n",
      " [15 12 14  3]\n",
      " [ 8 10 11  6]\n",
      " [13  9  7  0]]\n"
     ]
    }
   ],
   "source": [
    "from IPython.display import clear_output\n",
    "\n",
    "while not done:\n",
    "\taction=algo.compute_single_action(obs)\n",
    "\tobs,reward,done,info,ads=env.step(action)\n",
    "\tprint(action)\n",
    "\tprint(reward)\n",
    "\tprint(obs['grid'])\n",
    "\tsleep(0.2)\n",
    "\tclear_output(True)\n",
    "# progression.append(obs)"
   ]
  },
  {
   "cell_type": "code",
   "execution_count": null,
   "metadata": {},
   "outputs": [],
   "source": [
    "\n",
    "for i in progression:\n",
    "\tprint(i)\n",
    "\tsleep(1)\n",
    "\tclear_output(wait=True)"
   ]
  },
  {
   "cell_type": "code",
   "execution_count": null,
   "metadata": {},
   "outputs": [],
   "source": []
  }
 ],
 "metadata": {
  "kernelspec": {
   "display_name": "rl",
   "language": "python",
   "name": "rl"
  }
 },
 "nbformat": 4,
 "nbformat_minor": 4
}

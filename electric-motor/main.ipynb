{
 "cells": [
  {
   "cell_type": "code",
   "execution_count": 1,
   "id": "initial_id",
   "metadata": {
    "ExecuteTime": {
     "end_time": "2023-09-18T03:05:14.680067Z",
     "start_time": "2023-09-18T03:05:14.079972Z"
    },
    "collapsed": true
   },
   "outputs": [],
   "source": [
    "import gym_electric_motor as gem"
   ]
  },
  {
   "cell_type": "code",
   "execution_count": 2,
   "id": "d028a31343de6cc6",
   "metadata": {
    "ExecuteTime": {
     "end_time": "2023-09-18T03:05:21.640099Z",
     "start_time": "2023-09-18T03:05:21.629238Z"
    },
    "collapsed": false
   },
   "outputs": [
    {
     "data": {
      "text/plain": [
       "((array([ 0.23873241,  0.        ,  0.        ,  0.        ,  0.        ,\n",
       "          0.        ,  0.        , -1.4       , -1.4       , -1.4       ,\n",
       "          0.        ,  0.        ,  0.        ,  1.        ]),\n",
       "  array([0.10647293, 0.47205568])),\n",
       " {})"
      ]
     },
     "execution_count": 2,
     "metadata": {},
     "output_type": "execute_result"
    }
   ],
   "source": [
    "env = gem.make(\"Finite-CC-PMSM-v0\")\n",
    "env.reset()"
   ]
  },
  {
   "cell_type": "code",
   "execution_count": 3,
   "id": "bc95da7ad18d4cc9",
   "metadata": {
    "ExecuteTime": {
     "end_time": "2023-09-18T03:05:29.273709Z",
     "start_time": "2023-09-18T03:05:29.263037Z"
    },
    "collapsed": false
   },
   "outputs": [
    {
     "ename": "ValueError",
     "evalue": "too many values to unpack (expected 4)",
     "output_type": "error",
     "traceback": [
      "\u001b[0;31m---------------------------------------------------------------------------\u001b[0m",
      "\u001b[0;31mValueError\u001b[0m                                Traceback (most recent call last)",
      "Cell \u001b[0;32mIn[3], line 2\u001b[0m\n\u001b[1;32m      1\u001b[0m \u001b[38;5;28;01mfor\u001b[39;00m _ \u001b[38;5;129;01min\u001b[39;00m \u001b[38;5;28mrange\u001b[39m(\u001b[38;5;241m10000\u001b[39m):\n\u001b[0;32m----> 2\u001b[0m     (states, references), rewards, done, _ \u001b[38;5;241m=\u001b[39m \\\n\u001b[1;32m      3\u001b[0m         env\u001b[38;5;241m.\u001b[39mstep(env\u001b[38;5;241m.\u001b[39maction_space\u001b[38;5;241m.\u001b[39msample())  \u001b[38;5;66;03m# pick random control actions\u001b[39;00m\n\u001b[1;32m      4\u001b[0m     \u001b[38;5;28;01mif\u001b[39;00m done:\n\u001b[1;32m      5\u001b[0m         (states, references), _ \u001b[38;5;241m=\u001b[39m env\u001b[38;5;241m.\u001b[39mreset()\n",
      "\u001b[0;31mValueError\u001b[0m: too many values to unpack (expected 4)"
     ]
    }
   ],
   "source": [
    "for _ in range(10000):\n",
    "    (states, references), rewards, done, _ = \\\n",
    "        env.step(env.action_space.sample())  # pick random control actions\n",
    "    if done:\n",
    "        (states, references), _ = env.reset()\n",
    "env.close()"
   ]
  },
  {
   "cell_type": "code",
   "execution_count": null,
   "id": "4d6bfef3c9062064",
   "metadata": {
    "collapsed": false
   },
   "outputs": [],
   "source": []
  }
 ],
 "metadata": {
  "kernelspec": {
   "display_name": "rl",
   "language": "python",
   "name": "rl"
  },
  "language_info": {
   "codemirror_mode": {
    "name": "ipython",
    "version": 2
   },
   "file_extension": ".py",
   "mimetype": "text/x-python",
   "name": "python",
   "nbconvert_exporter": "python",
   "pygments_lexer": "ipython2",
   "version": "2.7.6"
  }
 },
 "nbformat": 4,
 "nbformat_minor": 5
}

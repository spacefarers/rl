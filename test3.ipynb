{
 "cells": [
  {
   "cell_type": "code",
   "execution_count": 15,
   "metadata": {},
   "outputs": [],
   "source": [
    "import gymnasium as gym\n",
    "import numpy as np\n",
    "from gymnasium import spaces\n",
    "\n",
    "class movePos(gym.Env):\n",
    "    def __init__(self,config=None):\n",
    "        self.current_steps = 0\n",
    "        self.grid_size = 2\n",
    "        self.action_space = spaces.Discrete(4) # left,right\n",
    "        self.observation_space = spaces.Dict({\n",
    "            'position': spaces.Box(low=0, high=self.grid_size, shape=(2,)),\n",
    "            'grid': spaces.Box(low=0, high=self.grid_size**2-1, shape=(self.grid_size, self.grid_size), dtype=np.int32)\n",
    "        })\n",
    "        # self.observation_space = spaces.Box(low=0, high=self.grid_size**2-1, shape=(self.grid_size, self.grid_size), dtype=np.int32)\n",
    "        self.seed()\n",
    "        self.reset()\n",
    "\n",
    "    def seed(self, seed=None):\n",
    "        self.np_random, seed = gym.utils.seeding.np_random(seed)\n",
    "        return [seed]\n",
    "    \n",
    "    def reset(self, *, seed=None, options=None):\n",
    "        self._max_episode_steps = 100\n",
    "        self.current_steps = 0\n",
    "        self.state = np.arange(0,self.grid_size**2)\n",
    "        self.np_random.shuffle(self.state)\n",
    "        self.state = self.state.reshape(self.grid_size,self.grid_size)\n",
    "        self.one_pos = np.argwhere(self.state==1)[0]\n",
    "        obs = {\n",
    "            \"position\": self.one_pos,\n",
    "            \"grid\": self.state,\n",
    "        }\n",
    "        return obs,{\"one_pos\":self.one_pos}\n",
    "    \n",
    "    def step(self,action):\n",
    "        self.current_steps+=1\n",
    "        reward = 0\n",
    "        new_coords = self.one_pos.copy()\n",
    "        if action==0:\n",
    "            new_coords[0]-=1\n",
    "        elif action==1:\n",
    "            new_coords[0]+=1\n",
    "        elif action==2:\n",
    "            new_coords[1]-=1\n",
    "        elif action==3:\n",
    "            new_coords[1]+=1\n",
    "        if new_coords[0]<0 or new_coords[0]>=self.grid_size or new_coords[1]<0 or new_coords[1]>=self.grid_size:\n",
    "            reward-=1\n",
    "            new_coords = self.one_pos.copy()\n",
    "        else:\n",
    "            self.state[self.one_pos[0],self.one_pos[1]],self.state[new_coords[0],new_coords[1]]=self.state[new_coords[0],new_coords[1]],self.state[self.one_pos[0],self.one_pos[1]]\n",
    "            self.one_pos = new_coords\n",
    "        obs = {\n",
    "            \"position\": self.one_pos,\n",
    "            \"grid\": self.state,\n",
    "        }\n",
    "        return obs,reward,self.current_steps==self._max_episode_steps,False,{}"
   ]
  },
  {
   "cell_type": "code",
   "execution_count": 16,
   "metadata": {},
   "outputs": [
    {
     "data": {
      "text/plain": [
       "({'position': array([0, 0]),\n",
       "  'grid': array([[1, 3],\n",
       "         [2, 0]])},\n",
       " {'one_pos': array([0, 0])})"
      ]
     },
     "execution_count": 16,
     "metadata": {},
     "output_type": "execute_result"
    }
   ],
   "source": [
    "env = movePos()\n",
    "env.reset()"
   ]
  },
  {
   "cell_type": "code",
   "execution_count": 17,
   "metadata": {},
   "outputs": [],
   "source": [
    "from ray.tune.registry import register_env\n",
    "register_env(\"mp\", movePos)"
   ]
  },
  {
   "cell_type": "code",
   "execution_count": 18,
   "metadata": {},
   "outputs": [
    {
     "name": "stderr",
     "output_type": "stream",
     "text": [
      "2023-08-07 00:16:43,952\tINFO worker.py:1636 -- Started a local Ray instance.\n",
      "2023-08-07 00:16:44,620\tWARNING deprecation.py:50 -- DeprecationWarning: `rllib/algorithms/a3c/a3c.py` has been deprecated. Use `rllib_contrib/a3c/` instead. This will raise an error in the future!\n",
      "2023-08-07 00:16:44,620\tWARNING deprecation.py:50 -- DeprecationWarning: `rllib/algorithms/a3c/a3c.py` has been deprecated. Use `rllib_contrib/a3c/` instead. This will raise an error in the future!\n",
      "2023-08-07 00:16:44,628\tWARNING deprecation.py:50 -- DeprecationWarning: `rllib/algorithms/maml/maml.py` has been deprecated. Use `rllib_contrib/maml/` instead. This will raise an error in the future!\n"
     ]
    },
    {
     "data": {
      "text/html": [
       "<div class=\"tuneStatus\">\n",
       "  <div style=\"display: flex;flex-direction: row\">\n",
       "    <div style=\"display: flex;flex-direction: column;\">\n",
       "      <h3>Tune Status</h3>\n",
       "      <table>\n",
       "<tbody>\n",
       "<tr><td>Current time:</td><td>2023-08-07 00:19:42</td></tr>\n",
       "<tr><td>Running for: </td><td>00:02:57.51        </td></tr>\n",
       "<tr><td>Memory:      </td><td>17.3/32.0 GiB      </td></tr>\n",
       "</tbody>\n",
       "</table>\n",
       "    </div>\n",
       "    <div class=\"vDivider\"></div>\n",
       "    <div class=\"systemInfo\">\n",
       "      <h3>System Info</h3>\n",
       "      Using FIFO scheduling algorithm.<br>Logical resource usage: 9.0/10 CPUs, 0/0 GPUs\n",
       "    </div>\n",
       "    \n",
       "  </div>\n",
       "  <div class=\"hDivider\"></div>\n",
       "  <div class=\"trialStatus\">\n",
       "    <h3>Trial Status</h3>\n",
       "    <table>\n",
       "<thead>\n",
       "<tr><th>Trial name        </th><th>status    </th><th>loc            </th><th style=\"text-align: right;\">  iter</th><th style=\"text-align: right;\">  total time (s)</th><th style=\"text-align: right;\">   ts</th><th style=\"text-align: right;\">  reward</th><th style=\"text-align: right;\">  episode_reward_max</th><th style=\"text-align: right;\">  episode_reward_min</th><th style=\"text-align: right;\">  episode_len_mean</th></tr>\n",
       "</thead>\n",
       "<tbody>\n",
       "<tr><td>DQN_mp_a2c09_00000</td><td>TERMINATED</td><td>127.0.0.1:81217</td><td style=\"text-align: right;\">    50</td><td style=\"text-align: right;\">         171.461</td><td style=\"text-align: right;\">50000</td><td style=\"text-align: right;\">   -1.19</td><td style=\"text-align: right;\">                   0</td><td style=\"text-align: right;\">                  -4</td><td style=\"text-align: right;\">               100</td></tr>\n",
       "</tbody>\n",
       "</table>\n",
       "  </div>\n",
       "</div>\n",
       "<style>\n",
       ".tuneStatus {\n",
       "  color: var(--jp-ui-font-color1);\n",
       "}\n",
       ".tuneStatus .systemInfo {\n",
       "  display: flex;\n",
       "  flex-direction: column;\n",
       "}\n",
       ".tuneStatus td {\n",
       "  white-space: nowrap;\n",
       "}\n",
       ".tuneStatus .trialStatus {\n",
       "  display: flex;\n",
       "  flex-direction: column;\n",
       "}\n",
       ".tuneStatus h3 {\n",
       "  font-weight: bold;\n",
       "}\n",
       ".tuneStatus .hDivider {\n",
       "  border-bottom-width: var(--jp-border-width);\n",
       "  border-bottom-color: var(--jp-border-color0);\n",
       "  border-bottom-style: solid;\n",
       "}\n",
       ".tuneStatus .vDivider {\n",
       "  border-left-width: var(--jp-border-width);\n",
       "  border-left-color: var(--jp-border-color0);\n",
       "  border-left-style: solid;\n",
       "  margin: 0.5em 1em 0.5em 1em;\n",
       "}\n",
       "</style>\n"
      ],
      "text/plain": [
       "<IPython.core.display.HTML object>"
      ]
     },
     "metadata": {},
     "output_type": "display_data"
    },
    {
     "data": {
      "text/html": [
       "<div class=\"trialProgress\">\n",
       "  <h3>Trial Progress</h3>\n",
       "  <table>\n",
       "<thead>\n",
       "<tr><th>Trial name        </th><th style=\"text-align: right;\">  agent_timesteps_total</th><th>connector_metrics                                                                                                                                               </th><th>counters                                                                                                                                                                                        </th><th>custom_metrics  </th><th>date               </th><th>done  </th><th style=\"text-align: right;\">  episode_len_mean</th><th>episode_media  </th><th style=\"text-align: right;\">  episode_reward_max</th><th style=\"text-align: right;\">  episode_reward_mean</th><th style=\"text-align: right;\">  episode_reward_min</th><th style=\"text-align: right;\">  episodes_this_iter</th><th style=\"text-align: right;\">  episodes_total</th><th>hostname        </th><th>info  </th><th style=\"text-align: right;\">  iterations_since_restore</th><th>node_ip  </th><th style=\"text-align: right;\">  num_agent_steps_sampled</th><th style=\"text-align: right;\">  num_agent_steps_trained</th><th style=\"text-align: right;\">  num_env_steps_sampled</th><th style=\"text-align: right;\">  num_env_steps_sampled_this_iter</th><th style=\"text-align: right;\">  num_env_steps_sampled_throughput_per_sec</th><th style=\"text-align: right;\">  num_env_steps_trained</th><th style=\"text-align: right;\">  num_env_steps_trained_this_iter</th><th style=\"text-align: right;\">  num_env_steps_trained_throughput_per_sec</th><th style=\"text-align: right;\">  num_faulty_episodes</th><th style=\"text-align: right;\">  num_healthy_workers</th><th style=\"text-align: right;\">  num_in_flight_async_reqs</th><th style=\"text-align: right;\">  num_remote_worker_restarts</th><th style=\"text-align: right;\">  num_steps_trained_this_iter</th><th>perf                                                               </th><th style=\"text-align: right;\">  pid</th><th>policy_reward_max  </th><th>policy_reward_mean  </th><th>policy_reward_min  </th><th>sampler_perf                                                                                                                                                                                                   </th><th>sampler_results                                                                                                                                                                                                                                                                                                                                                                                                                                                                                                                                                                                                                                                                                                                                                                                                                                                                                                                                                                                                                                                                                                                                                                                                                                                                                                                                                                                                                                                                                                                                                                                                                                                                                                                                                                                                                                                                               </th><th style=\"text-align: right;\">  time_since_restore</th><th style=\"text-align: right;\">  time_this_iter_s</th><th style=\"text-align: right;\">  time_total_s</th><th>timers                                                                                                                                                                                                      </th><th style=\"text-align: right;\">  timestamp</th><th style=\"text-align: right;\">  timesteps_total</th><th style=\"text-align: right;\">  training_iteration</th><th>trial_id   </th></tr>\n",
       "</thead>\n",
       "<tbody>\n",
       "<tr><td>DQN_mp_a2c09_00000</td><td style=\"text-align: right;\">                  50000</td><td>{&#x27;ObsPreprocessorConnector_ms&#x27;: 0.026938676834106445, &#x27;StateBufferConnector_ms&#x27;: 0.0036118030548095703, &#x27;ViewRequirementAgentConnector_ms&#x27;: 0.10335493087768555}</td><td>{&#x27;num_env_steps_sampled&#x27;: 50000, &#x27;num_env_steps_trained&#x27;: 196000, &#x27;num_agent_steps_sampled&#x27;: 50000, &#x27;num_agent_steps_trained&#x27;: 196000, &#x27;last_target_update_ts&#x27;: 49896, &#x27;num_target_updates&#x27;: 98}</td><td>{}              </td><td>2023-08-07_00-19-42</td><td>True  </td><td style=\"text-align: right;\">               100</td><td>{}             </td><td style=\"text-align: right;\">                   0</td><td style=\"text-align: right;\">                -1.19</td><td style=\"text-align: right;\">                  -4</td><td style=\"text-align: right;\">                   8</td><td style=\"text-align: right;\">             496</td><td>michaelmbp.local</td><td>{&#x27;learner&#x27;: {&#x27;default_policy&#x27;: {&#x27;learner_stats&#x27;: {&#x27;allreduce_latency&#x27;: 0.0, &#x27;grad_gnorm&#x27;: 0.002763177501037717, &#x27;mean_q&#x27;: -0.15434393286705017, &#x27;min_q&#x27;: -1.0650169849395752, &#x27;max_q&#x27;: 0.007631659507751465, &#x27;cur_lr&#x27;: 0.0005}, &#x27;td_error&#x27;: array([-0.04766262, -0.00965565, -0.02243686,  0.01210634, -0.03587893,\n",
       "        0.00893356, -0.0287244 , -0.02845134, -0.03066242, -0.03513251,\n",
       "        0.00934454, -0.00876416,  0.00439441,  0.00426968, -0.02342288,\n",
       "       -0.0392408 , -0.02342288, -0.01952364,  0.00397232,  0.00139773,\n",
       "       -0.03810394,  0.01548661,  0.0103614 , -0.00422216, -0.02521471,\n",
       "       -0.01949371,  0.00741578, -0.03443904,  0.0090582 , -0.00965565,\n",
       "       -0.03810394, -0.03443904], dtype=float32), &#x27;mean_td_error&#x27;: -0.014684710651636124, &#x27;model&#x27;: {}, &#x27;custom_metrics&#x27;: {}, &#x27;num_agent_steps_trained&#x27;: 32.0, &#x27;num_grad_updates_lifetime&#x27;: 6125.0, &#x27;diff_num_grad_updates_vs_sampler_policy&#x27;: 6124.0}}, &#x27;num_env_steps_sampled&#x27;: 50000, &#x27;num_env_steps_trained&#x27;: 196000, &#x27;num_agent_steps_sampled&#x27;: 50000, &#x27;num_agent_steps_trained&#x27;: 196000, &#x27;last_target_update_ts&#x27;: 49896, &#x27;num_target_updates&#x27;: 98}       </td><td style=\"text-align: right;\">                        50</td><td>127.0.0.1</td><td style=\"text-align: right;\">                    50000</td><td style=\"text-align: right;\">                   196000</td><td style=\"text-align: right;\">                  50000</td><td style=\"text-align: right;\">                             1000</td><td style=\"text-align: right;\">                                   293.921</td><td style=\"text-align: right;\">                 196000</td><td style=\"text-align: right;\">                             4000</td><td style=\"text-align: right;\">                                   1175.68</td><td style=\"text-align: right;\">                    0</td><td style=\"text-align: right;\">                    8</td><td style=\"text-align: right;\">                         0</td><td style=\"text-align: right;\">                           0</td><td style=\"text-align: right;\">                         4000</td><td>{&#x27;cpu_util_percent&#x27;: 48.44, &#x27;ram_util_percent&#x27;: 53.620000000000005}</td><td style=\"text-align: right;\">81217</td><td>{}                 </td><td>{}                  </td><td>{}                 </td><td>{&#x27;mean_raw_obs_processing_ms&#x27;: 0.468898054625212, &#x27;mean_inference_ms&#x27;: 1.1642468972841054, &#x27;mean_action_processing_ms&#x27;: 0.06766942458703105, &#x27;mean_env_wait_ms&#x27;: 0.0323327189533755, &#x27;mean_env_render_ms&#x27;: 0.0}</td><td>{&#x27;episode_reward_max&#x27;: 0.0, &#x27;episode_reward_min&#x27;: -4.0, &#x27;episode_reward_mean&#x27;: -1.19, &#x27;episode_len_mean&#x27;: 100.0, &#x27;episode_media&#x27;: {}, &#x27;episodes_this_iter&#x27;: 8, &#x27;policy_reward_min&#x27;: {}, &#x27;policy_reward_max&#x27;: {}, &#x27;policy_reward_mean&#x27;: {}, &#x27;custom_metrics&#x27;: {}, &#x27;hist_stats&#x27;: {&#x27;episode_reward&#x27;: [-1.0, 0.0, -1.0, -2.0, -4.0, 0.0, 0.0, -3.0, -2.0, -3.0, -2.0, -1.0, -2.0, -2.0, -2.0, 0.0, -1.0, 0.0, -2.0, 0.0, -2.0, -1.0, -2.0, 0.0, 0.0, -1.0, -1.0, -1.0, 0.0, 0.0, -1.0, 0.0, -2.0, -3.0, -1.0, 0.0, -1.0, -1.0, -2.0, -1.0, 0.0, -1.0, -1.0, -1.0, -1.0, 0.0, -1.0, -1.0, -3.0, -1.0, -2.0, 0.0, -1.0, -1.0, -1.0, -3.0, -1.0, -2.0, -1.0, -3.0, -1.0, 0.0, -2.0, -1.0, 0.0, -1.0, -1.0, -2.0, -2.0, 0.0, -1.0, -2.0, -1.0, 0.0, -1.0, -2.0, 0.0, -1.0, -2.0, -1.0, -1.0, -1.0, -2.0, -2.0, 0.0, -1.0, 0.0, -2.0, 0.0, 0.0, 0.0, -3.0, -2.0, -1.0, -1.0, -2.0, -1.0, -1.0, -1.0, -4.0], &#x27;episode_lengths&#x27;: [100, 100, 100, 100, 100, 100, 100, 100, 100, 100, 100, 100, 100, 100, 100, 100, 100, 100, 100, 100, 100, 100, 100, 100, 100, 100, 100, 100, 100, 100, 100, 100, 100, 100, 100, 100, 100, 100, 100, 100, 100, 100, 100, 100, 100, 100, 100, 100, 100, 100, 100, 100, 100, 100, 100, 100, 100, 100, 100, 100, 100, 100, 100, 100, 100, 100, 100, 100, 100, 100, 100, 100, 100, 100, 100, 100, 100, 100, 100, 100, 100, 100, 100, 100, 100, 100, 100, 100, 100, 100, 100, 100, 100, 100, 100, 100, 100, 100, 100, 100]}, &#x27;sampler_perf&#x27;: {&#x27;mean_raw_obs_processing_ms&#x27;: 0.468898054625212, &#x27;mean_inference_ms&#x27;: 1.1642468972841054, &#x27;mean_action_processing_ms&#x27;: 0.06766942458703105, &#x27;mean_env_wait_ms&#x27;: 0.0323327189533755, &#x27;mean_env_render_ms&#x27;: 0.0}, &#x27;num_faulty_episodes&#x27;: 0, &#x27;connector_metrics&#x27;: {&#x27;ObsPreprocessorConnector_ms&#x27;: 0.026938676834106445, &#x27;StateBufferConnector_ms&#x27;: 0.0036118030548095703, &#x27;ViewRequirementAgentConnector_ms&#x27;: 0.10335493087768555}}</td><td style=\"text-align: right;\">             171.461</td><td style=\"text-align: right;\">           3.40896</td><td style=\"text-align: right;\">       171.461</td><td>{&#x27;training_iteration_time_ms&#x27;: 28.826, &#x27;sample_time_ms&#x27;: 10.379, &#x27;load_time_ms&#x27;: 0.095, &#x27;load_throughput&#x27;: 335796.167, &#x27;learn_time_ms&#x27;: 5.668, &#x27;learn_throughput&#x27;: 5645.924, &#x27;synch_weights_time_ms&#x27;: 6.747}</td><td style=\"text-align: right;\"> 1691338782</td><td style=\"text-align: right;\">            50000</td><td style=\"text-align: right;\">                  50</td><td>a2c09_00000</td></tr>\n",
       "</tbody>\n",
       "</table>\n",
       "</div>\n",
       "<style>\n",
       ".trialProgress {\n",
       "  display: flex;\n",
       "  flex-direction: column;\n",
       "  color: var(--jp-ui-font-color1);\n",
       "}\n",
       ".trialProgress h3 {\n",
       "  font-weight: bold;\n",
       "}\n",
       ".trialProgress td {\n",
       "  white-space: nowrap;\n",
       "}\n",
       "</style>\n"
      ],
      "text/plain": [
       "<IPython.core.display.HTML object>"
      ]
     },
     "metadata": {},
     "output_type": "display_data"
    },
    {
     "name": "stderr",
     "output_type": "stream",
     "text": [
      "2023-08-07 00:19:42,464\tINFO tune.py:1111 -- Total run time: 177.82 seconds (177.50 seconds for the tuning loop).\n"
     ]
    }
   ],
   "source": [
    "import ray\n",
    "from ray import tune,air\n",
    "from ray.rllib.algorithms.algorithm_config import AlgorithmConfig\n",
    "from ray.rllib.algorithms.callbacks import MemoryTrackingCallbacks\n",
    "from ray.tune.logger import LoggerCallback\n",
    "from ray.air import session\n",
    "\n",
    "\n",
    "class RewardLoggerCallback(LoggerCallback):\n",
    "    def __init__(self) -> None:\n",
    "        self.results = []\n",
    "\n",
    "    def log_trial_result(self, iteration: int, trial, result):\n",
    "        reward = result  # assuming 'reward' is your reward key\n",
    "        self.results.append(reward)\n",
    "\n",
    "callback = RewardLoggerCallback()\n",
    "\n",
    "stopping_criterion = {\"training_iteration\": 50,\"episode_reward_mean\":0}\n",
    "ray.init(ignore_reinit_error=True, log_to_driver=False)\n",
    "tuner = tune.Tuner(\n",
    "    \"DQN\",\n",
    "    param_space={\n",
    "        \"env\": \"mp\",\n",
    "        \"framework\": \"torch\",\n",
    "        \"num_gpus\": 0,\n",
    "        \"num_workers\":8,\n",
    "    },\n",
    "    run_config=air.RunConfig(\n",
    "        stop=stopping_criterion,callbacks=[callback],\n",
    "        checkpoint_config=air.CheckpointConfig(checkpoint_frequency=1),\n",
    "        ),\n",
    ")\n",
    "results = tuner.fit()\n",
    "ray.shutdown()"
   ]
  },
  {
   "cell_type": "code",
   "execution_count": 19,
   "metadata": {},
   "outputs": [
    {
     "data": {
      "image/png": "[encoded data removed]",
      "text/plain": [
       "<Figure size 640x480 with 1 Axes>"
      ]
     },
     "metadata": {},
     "output_type": "display_data"
    }
   ],
   "source": [
    "import matplotlib.pyplot as plt\n",
    "rewards = [i[\"episode_reward_mean\"] for i in callback.results]\n",
    "\n",
    "plt.plot(rewards)\n",
    "plt.xlabel(\"Iteration\")\n",
    "plt.ylabel(\"Mean Reward\")\n",
    "plt.title(\"Reward vs. Iteration\")\n",
    "plt.show()"
   ]
  },
  {
   "cell_type": "code",
   "execution_count": 6,
   "metadata": {},
   "outputs": [],
   "source": [
    "best_result = results.get_best_result(\"episode_mean_reward\",\"max\")"
   ]
  },
  {
   "cell_type": "code",
   "execution_count": 7,
   "metadata": {},
   "outputs": [
    {
     "data": {
      "image/png": "[encoded data removed]",
      "text/plain": [
       "<Figure size 640x480 with 1 Axes>"
      ]
     },
     "metadata": {},
     "output_type": "display_data"
    }
   ],
   "source": [
    "import matplotlib.pyplot as plt\n",
    "rewards = [i[\"episode_reward_mean\"] for i in callback.results]\n",
    "\n",
    "plt.plot(rewards)\n",
    "plt.xlabel(\"Iteration\")\n",
    "plt.ylabel(\"Mean Reward\")\n",
    "plt.title(\"Reward vs. Iteration\")\n",
    "plt.show()"
   ]
  },
  {
   "cell_type": "code",
   "execution_count": 8,
   "metadata": {},
   "outputs": [],
   "source": [
    "# Get the best result\n",
    "best_result = results.get_best_result()\n",
    "\n",
    "# Get the best checkpoint\n",
    "best_checkpoint = best_result.checkpoint"
   ]
  },
  {
   "cell_type": "code",
   "execution_count": 9,
   "metadata": {},
   "outputs": [],
   "source": [
    "best_checkpoint"
   ]
  },
  {
   "cell_type": "code",
   "execution_count": 10,
   "metadata": {},
   "outputs": [
    {
     "ename": "NameError",
     "evalue": "name 'pushButton' is not defined",
     "output_type": "error",
     "traceback": [
      "\u001b[0;31m---------------------------------------------------------------------------\u001b[0m",
      "\u001b[0;31mNameError\u001b[0m                                 Traceback (most recent call last)",
      "Cell \u001b[0;32mIn[10], line 2\u001b[0m\n\u001b[1;32m      1\u001b[0m \u001b[39mfrom\u001b[39;00m \u001b[39mray\u001b[39;00m\u001b[39m.\u001b[39;00m\u001b[39mrllib\u001b[39;00m\u001b[39m.\u001b[39;00m\u001b[39malgorithms\u001b[39;00m\u001b[39m.\u001b[39;00m\u001b[39malgorithm\u001b[39;00m \u001b[39mimport\u001b[39;00m Algorithm\n\u001b[0;32m----> 2\u001b[0m register_env(\u001b[39m\"\u001b[39m\u001b[39mpb\u001b[39m\u001b[39m\"\u001b[39m, pushButton)\n\u001b[1;32m      3\u001b[0m algo \u001b[39m=\u001b[39m Algorithm\u001b[39m.\u001b[39mfrom_checkpoint(best_checkpoint)\n",
      "\u001b[0;31mNameError\u001b[0m: name 'pushButton' is not defined"
     ]
    }
   ],
   "source": [
    "from ray.rllib.algorithms.algorithm import Algorithm\n",
    "register_env(\"pb\", pushButton)\n",
    "algo = Algorithm.from_checkpoint(best_checkpoint)"
   ]
  },
  {
   "cell_type": "code",
   "execution_count": null,
   "metadata": {},
   "outputs": [],
   "source": [
    "from time import sleep\n",
    "env = pushButton()\n",
    "obs = env.reset()[0]\n",
    "progression = []\n",
    "done = False"
   ]
  },
  {
   "cell_type": "code",
   "execution_count": null,
   "metadata": {},
   "outputs": [],
   "source": [
    "obs"
   ]
  },
  {
   "cell_type": "code",
   "execution_count": null,
   "metadata": {},
   "outputs": [],
   "source": [
    "from IPython.display import clear_output\n",
    "lastObs=obs\n",
    "while not done:\n",
    "    action = algo.compute_single_action(obs)\n",
    "    obs, reward, done, info,ads = env.step(action)\n",
    "    print(f\"action: {action}\")\n",
    "    print(f\"obs: {obs}\")\n",
    "    print(f\"reward: {reward}\")\n",
    "    if lastObs==action:\n",
    "        print(\"WIN\")\n",
    "    lastObs=obs\n",
    "    sleep(1)\n",
    "    clear_output(True)\n",
    "    # progression.append(obs)"
   ]
  },
  {
   "cell_type": "code",
   "execution_count": null,
   "metadata": {},
   "outputs": [],
   "source": []
  }
 ],
 "metadata": {
  "kernelspec": {
   "display_name": "rl",
   "language": "python",
   "name": "python3"
  },
  "language_info": {
   "codemirror_mode": {
    "name": "ipython",
    "version": 3
   },
   "file_extension": ".py",
   "mimetype": "text/x-python",
   "name": "python",
   "nbconvert_exporter": "python",
   "pygments_lexer": "ipython3",
   "version": "3.10.0"
  },
  "orig_nbformat": 4
 },
 "nbformat": 4,
 "nbformat_minor": 2
}

{
 "cells": [
  {
   "cell_type": "code",
   "execution_count": 14,
   "metadata": {},
   "outputs": [],
   "source": [
    "import ray\n",
    "from ray import tune,air\n",
    "from ray.rllib.algorithms.ppo import PPOConfig\n",
    "\n",
    "def main():\n",
    "    ray.init(ignore_reinit_error=True, log_to_driver=False)\n",
    "    \n",
    "    config = {\n",
    "        \"env\": 'InvertedPendulum-v4',\n",
    "        \"framework\": \"torch\",  # You can also use \"tf\" for TensorFlow\n",
    "        \"num_workers\": 8,      # Number of parallel workers for collecting experiences\n",
    "        \"num_gpus\": 0,         # Number of GPUs to use\n",
    "        \"train_batch_size\": 4000,\n",
    "        \"model\": {\n",
    "            \"use_lstm\": False,\n",
    "        },\n",
    "    }\n",
    "\n",
    "    tuner = tune.Tuner(\n",
    "        \"PPO\",\n",
    "        run_config=air.RunConfig(\n",
    "            stop={\"training_iteration\": 50},\n",
    "        ),\n",
    "        param_space=config,\n",
    "    )\n",
    "\n",
    "    results = tuner.fit()\n",
    "\n",
    "    ray.shutdown()\n",
    "    return results\n"
   ]
  },
  {
   "cell_type": "code",
   "execution_count": 15,
   "metadata": {},
   "outputs": [
    {
     "name": "stderr",
     "output_type": "stream",
     "text": [
      "2023-08-11 23:55:59,896\tINFO worker.py:1474 -- Calling ray.init() again after it has already been called.\n"
     ]
    },
    {
     "data": {
      "text/html": [
       "<div class=\"tuneStatus\">\n",
       "  <div style=\"display: flex;flex-direction: row\">\n",
       "    <div style=\"display: flex;flex-direction: column;\">\n",
       "      <h3>Tune Status</h3>\n",
       "      <table>\n",
       "<tbody>\n",
       "<tr><td>Current time:</td><td>2023-08-11 23:58:44</td></tr>\n",
       "<tr><td>Running for: </td><td>00:02:44.56        </td></tr>\n",
       "<tr><td>Memory:      </td><td>23.1/32.0 GiB      </td></tr>\n",
       "</tbody>\n",
       "</table>\n",
       "    </div>\n",
       "    <div class=\"vDivider\"></div>\n",
       "    <div class=\"systemInfo\">\n",
       "      <h3>System Info</h3>\n",
       "      Using FIFO scheduling algorithm.<br>Logical resource usage: 9.0/10 CPUs, 0/0 GPUs\n",
       "    </div>\n",
       "    \n",
       "  </div>\n",
       "  <div class=\"hDivider\"></div>\n",
       "  <div class=\"trialStatus\">\n",
       "    <h3>Trial Status</h3>\n",
       "    <table>\n",
       "<thead>\n",
       "<tr><th>Trial name                         </th><th>status    </th><th>loc            </th><th style=\"text-align: right;\">  iter</th><th style=\"text-align: right;\">  total time (s)</th><th style=\"text-align: right;\">    ts</th><th style=\"text-align: right;\">  reward</th><th style=\"text-align: right;\">  episode_reward_max</th><th style=\"text-align: right;\">  episode_reward_min</th><th style=\"text-align: right;\">  episode_len_mean</th></tr>\n",
       "</thead>\n",
       "<tbody>\n",
       "<tr><td>PPO_InvertedPendulum-v4_90e48_00000</td><td>TERMINATED</td><td>127.0.0.1:58744</td><td style=\"text-align: right;\">    50</td><td style=\"text-align: right;\">         157.813</td><td style=\"text-align: right;\">200000</td><td style=\"text-align: right;\">  986.01</td><td style=\"text-align: right;\">                1000</td><td style=\"text-align: right;\">                 433</td><td style=\"text-align: right;\">            986.01</td></tr>\n",
       "</tbody>\n",
       "</table>\n",
       "  </div>\n",
       "</div>\n",
       "<style>\n",
       ".tuneStatus {\n",
       "  color: var(--jp-ui-font-color1);\n",
       "}\n",
       ".tuneStatus .systemInfo {\n",
       "  display: flex;\n",
       "  flex-direction: column;\n",
       "}\n",
       ".tuneStatus td {\n",
       "  white-space: nowrap;\n",
       "}\n",
       ".tuneStatus .trialStatus {\n",
       "  display: flex;\n",
       "  flex-direction: column;\n",
       "}\n",
       ".tuneStatus h3 {\n",
       "  font-weight: bold;\n",
       "}\n",
       ".tuneStatus .hDivider {\n",
       "  border-bottom-width: var(--jp-border-width);\n",
       "  border-bottom-color: var(--jp-border-color0);\n",
       "  border-bottom-style: solid;\n",
       "}\n",
       ".tuneStatus .vDivider {\n",
       "  border-left-width: var(--jp-border-width);\n",
       "  border-left-color: var(--jp-border-color0);\n",
       "  border-left-style: solid;\n",
       "  margin: 0.5em 1em 0.5em 1em;\n",
       "}\n",
       "</style>\n"
      ],
      "text/plain": [
       "<IPython.core.display.HTML object>"
      ]
     },
     "metadata": {},
     "output_type": "display_data"
    },
    {
     "data": {
      "text/html": [
       "<div class=\"trialProgress\">\n",
       "  <h3>Trial Progress</h3>\n",
       "  <table>\n",
       "<thead>\n",
       "<tr><th>Trial name                         </th><th style=\"text-align: right;\">  agent_timesteps_total</th><th>connector_metrics                                                                                                                                                 </th><th>counters                                                                                                                                </th><th>custom_metrics  </th><th>date               </th><th>done  </th><th style=\"text-align: right;\">  episode_len_mean</th><th>episode_media  </th><th style=\"text-align: right;\">  episode_reward_max</th><th style=\"text-align: right;\">  episode_reward_mean</th><th style=\"text-align: right;\">  episode_reward_min</th><th style=\"text-align: right;\">  episodes_this_iter</th><th style=\"text-align: right;\">  episodes_total</th><th>hostname        </th><th>info                                                                                                                                                                                                                                                                                                                                                                                                                                                                                                                                                                                                                                                                                                                                </th><th style=\"text-align: right;\">  iterations_since_restore</th><th>node_ip  </th><th style=\"text-align: right;\">  num_agent_steps_sampled</th><th style=\"text-align: right;\">  num_agent_steps_trained</th><th style=\"text-align: right;\">  num_env_steps_sampled</th><th style=\"text-align: right;\">  num_env_steps_sampled_this_iter</th><th style=\"text-align: right;\">  num_env_steps_sampled_throughput_per_sec</th><th style=\"text-align: right;\">  num_env_steps_trained</th><th style=\"text-align: right;\">  num_env_steps_trained_this_iter</th><th style=\"text-align: right;\">  num_env_steps_trained_throughput_per_sec</th><th style=\"text-align: right;\">  num_faulty_episodes</th><th style=\"text-align: right;\">  num_healthy_workers</th><th style=\"text-align: right;\">  num_in_flight_async_reqs</th><th style=\"text-align: right;\">  num_remote_worker_restarts</th><th style=\"text-align: right;\">  num_steps_trained_this_iter</th><th>perf                                                                           </th><th style=\"text-align: right;\">  pid</th><th>policy_reward_max  </th><th>policy_reward_mean  </th><th>policy_reward_min  </th><th>sampler_perf                                                                                                                                                                                                      </th><th>sampler_results                                                                                                                                                                                                                                                                                                                                                                                                                                                                                                                                                                                                                                                                                                                                                                                                                                                                                                                                                                                                                                                                                                                                                                                                                                                                                                                                                                                                                                                                                                                                                                                                                                                                                                                                                                                                                                                                                                                                                                                                                                                                                                                                                                                                                         </th><th style=\"text-align: right;\">  time_since_restore</th><th style=\"text-align: right;\">  time_this_iter_s</th><th style=\"text-align: right;\">  time_total_s</th><th>timers                                                                                                                                                                                                              </th><th style=\"text-align: right;\">  timestamp</th><th style=\"text-align: right;\">  timesteps_total</th><th style=\"text-align: right;\">  training_iteration</th><th>trial_id   </th></tr>\n",
       "</thead>\n",
       "<tbody>\n",
       "<tr><td>PPO_InvertedPendulum-v4_90e48_00000</td><td style=\"text-align: right;\">                 200000</td><td>{&#x27;ObsPreprocessorConnector_ms&#x27;: 0.0035986900329589844, &#x27;StateBufferConnector_ms&#x27;: 0.0018749237060546875, &#x27;ViewRequirementAgentConnector_ms&#x27;: 0.055733680725097656}</td><td>{&#x27;num_env_steps_sampled&#x27;: 200000, &#x27;num_env_steps_trained&#x27;: 200000, &#x27;num_agent_steps_sampled&#x27;: 200000, &#x27;num_agent_steps_trained&#x27;: 200000}</td><td>{}              </td><td>2023-08-11_23-58-44</td><td>True  </td><td style=\"text-align: right;\">            986.01</td><td>{}             </td><td style=\"text-align: right;\">                1000</td><td style=\"text-align: right;\">               986.01</td><td style=\"text-align: right;\">                 433</td><td style=\"text-align: right;\">                   5</td><td style=\"text-align: right;\">            2543</td><td>michaelmbp.local</td><td>{&#x27;learner&#x27;: {&#x27;default_policy&#x27;: {&#x27;learner_stats&#x27;: {&#x27;allreduce_latency&#x27;: 0.0, &#x27;grad_gnorm&#x27;: 2.824068348958928, &#x27;cur_kl_coeff&#x27;: 0.04218750000000001, &#x27;cur_lr&#x27;: 5.0000000000000016e-05, &#x27;total_loss&#x27;: 0.0029278307318529716, &#x27;policy_loss&#x27;: 0.0023690313952023623, &#x27;vf_loss&#x27;: 5.903852319710084e-07, &#x27;vf_explained_var&#x27;: -0.9924795518639267, &#x27;kl&#x27;: 0.01323160667682446, &#x27;entropy&#x27;: 0.0039128289663142735, &#x27;entropy_coeff&#x27;: 0.0}, &#x27;model&#x27;: {}, &#x27;custom_metrics&#x27;: {}, &#x27;num_agent_steps_trained&#x27;: 128.0, &#x27;num_grad_updates_lifetime&#x27;: 46035.5, &#x27;diff_num_grad_updates_vs_sampler_policy&#x27;: 464.5}}, &#x27;num_env_steps_sampled&#x27;: 200000, &#x27;num_env_steps_trained&#x27;: 200000, &#x27;num_agent_steps_sampled&#x27;: 200000, &#x27;num_agent_steps_trained&#x27;: 200000}</td><td style=\"text-align: right;\">                        50</td><td>127.0.0.1</td><td style=\"text-align: right;\">                   200000</td><td style=\"text-align: right;\">                   200000</td><td style=\"text-align: right;\">                 200000</td><td style=\"text-align: right;\">                             4000</td><td style=\"text-align: right;\">                                   1316.78</td><td style=\"text-align: right;\">                 200000</td><td style=\"text-align: right;\">                             4000</td><td style=\"text-align: right;\">                                   1316.78</td><td style=\"text-align: right;\">                    0</td><td style=\"text-align: right;\">                    8</td><td style=\"text-align: right;\">                         0</td><td style=\"text-align: right;\">                           0</td><td style=\"text-align: right;\">                         4000</td><td>{&#x27;cpu_util_percent&#x27;: 51.099999999999994, &#x27;ram_util_percent&#x27;: 71.42500000000001}</td><td style=\"text-align: right;\">58744</td><td>{}                 </td><td>{}                  </td><td>{}                 </td><td>{&#x27;mean_raw_obs_processing_ms&#x27;: 0.1723045486893441, &#x27;mean_inference_ms&#x27;: 0.49765163906935383, &#x27;mean_action_processing_ms&#x27;: 0.09231205756461987, &#x27;mean_env_wait_ms&#x27;: 0.05119145226531757, &#x27;mean_env_render_ms&#x27;: 0.0}</td><td>{&#x27;episode_reward_max&#x27;: 1000.0, &#x27;episode_reward_min&#x27;: 433.0, &#x27;episode_reward_mean&#x27;: 986.01, &#x27;episode_len_mean&#x27;: 986.01, &#x27;episode_media&#x27;: {}, &#x27;episodes_this_iter&#x27;: 5, &#x27;policy_reward_min&#x27;: {}, &#x27;policy_reward_max&#x27;: {}, &#x27;policy_reward_mean&#x27;: {}, &#x27;custom_metrics&#x27;: {}, &#x27;hist_stats&#x27;: {&#x27;episode_reward&#x27;: [1000.0, 1000.0, 1000.0, 1000.0, 1000.0, 433.0, 1000.0, 1000.0, 1000.0, 1000.0, 1000.0, 1000.0, 1000.0, 1000.0, 1000.0, 1000.0, 1000.0, 1000.0, 1000.0, 1000.0, 1000.0, 1000.0, 1000.0, 1000.0, 1000.0, 1000.0, 1000.0, 1000.0, 1000.0, 1000.0, 1000.0, 1000.0, 1000.0, 1000.0, 1000.0, 1000.0, 1000.0, 1000.0, 1000.0, 1000.0, 1000.0, 1000.0, 1000.0, 1000.0, 1000.0, 1000.0, 1000.0, 1000.0, 1000.0, 1000.0, 1000.0, 1000.0, 1000.0, 1000.0, 1000.0, 1000.0, 1000.0, 1000.0, 1000.0, 1000.0, 1000.0, 1000.0, 652.0, 1000.0, 1000.0, 1000.0, 1000.0, 1000.0, 1000.0, 1000.0, 1000.0, 1000.0, 1000.0, 1000.0, 1000.0, 1000.0, 1000.0, 1000.0, 1000.0, 1000.0, 1000.0, 1000.0, 1000.0, 1000.0, 1000.0, 1000.0, 1000.0, 1000.0, 1000.0, 1000.0, 516.0, 1000.0, 1000.0, 1000.0, 1000.0, 1000.0, 1000.0, 1000.0, 1000.0, 1000.0], &#x27;episode_lengths&#x27;: [1000, 1000, 1000, 1000, 1000, 433, 1000, 1000, 1000, 1000, 1000, 1000, 1000, 1000, 1000, 1000, 1000, 1000, 1000, 1000, 1000, 1000, 1000, 1000, 1000, 1000, 1000, 1000, 1000, 1000, 1000, 1000, 1000, 1000, 1000, 1000, 1000, 1000, 1000, 1000, 1000, 1000, 1000, 1000, 1000, 1000, 1000, 1000, 1000, 1000, 1000, 1000, 1000, 1000, 1000, 1000, 1000, 1000, 1000, 1000, 1000, 1000, 652, 1000, 1000, 1000, 1000, 1000, 1000, 1000, 1000, 1000, 1000, 1000, 1000, 1000, 1000, 1000, 1000, 1000, 1000, 1000, 1000, 1000, 1000, 1000, 1000, 1000, 1000, 1000, 516, 1000, 1000, 1000, 1000, 1000, 1000, 1000, 1000, 1000]}, &#x27;sampler_perf&#x27;: {&#x27;mean_raw_obs_processing_ms&#x27;: 0.1723045486893441, &#x27;mean_inference_ms&#x27;: 0.49765163906935383, &#x27;mean_action_processing_ms&#x27;: 0.09231205756461987, &#x27;mean_env_wait_ms&#x27;: 0.05119145226531757, &#x27;mean_env_render_ms&#x27;: 0.0}, &#x27;num_faulty_episodes&#x27;: 0, &#x27;connector_metrics&#x27;: {&#x27;ObsPreprocessorConnector_ms&#x27;: 0.0035986900329589844, &#x27;StateBufferConnector_ms&#x27;: 0.0018749237060546875, &#x27;ViewRequirementAgentConnector_ms&#x27;: 0.055733680725097656}}</td><td style=\"text-align: right;\">             157.813</td><td style=\"text-align: right;\">           3.04015</td><td style=\"text-align: right;\">       157.813</td><td>{&#x27;training_iteration_time_ms&#x27;: 3014.467, &#x27;sample_time_ms&#x27;: 496.452, &#x27;load_time_ms&#x27;: 0.304, &#x27;load_throughput&#x27;: 13142108.726, &#x27;learn_time_ms&#x27;: 2510.879, &#x27;learn_throughput&#x27;: 1593.067, &#x27;synch_weights_time_ms&#x27;: 6.041}</td><td style=\"text-align: right;\"> 1691769524</td><td style=\"text-align: right;\">           200000</td><td style=\"text-align: right;\">                  50</td><td>90e48_00000</td></tr>\n",
       "</tbody>\n",
       "</table>\n",
       "</div>\n",
       "<style>\n",
       ".trialProgress {\n",
       "  display: flex;\n",
       "  flex-direction: column;\n",
       "  color: var(--jp-ui-font-color1);\n",
       "}\n",
       ".trialProgress h3 {\n",
       "  font-weight: bold;\n",
       "}\n",
       ".trialProgress td {\n",
       "  white-space: nowrap;\n",
       "}\n",
       "</style>\n"
      ],
      "text/plain": [
       "<IPython.core.display.HTML object>"
      ]
     },
     "metadata": {},
     "output_type": "display_data"
    },
    {
     "name": "stderr",
     "output_type": "stream",
     "text": [
      "2023-08-11 23:58:44,586\tINFO tune.py:1111 -- Total run time: 164.69 seconds (164.55 seconds for the tuning loop).\n"
     ]
    },
    {
     "data": {
      "text/plain": [
       "ResultGrid<[\n",
       "  Result(\n",
       "    metrics={'custom_metrics': {}, 'episode_media': {}, 'info': {'learner': {'default_policy': {'learner_stats': {'allreduce_latency': 0.0, 'grad_gnorm': 2.824068348958928, 'cur_kl_coeff': 0.04218750000000001, 'cur_lr': 5.0000000000000016e-05, 'total_loss': 0.0029278307318529716, 'policy_loss': 0.0023690313952023623, 'vf_loss': 5.903852319710084e-07, 'vf_explained_var': -0.9924795518639267, 'kl': 0.01323160667682446, 'entropy': 0.0039128289663142735, 'entropy_coeff': 0.0}, 'model': {}, 'custom_metrics': {}, 'num_agent_steps_trained': 128.0, 'num_grad_updates_lifetime': 46035.5, 'diff_num_grad_updates_vs_sampler_policy': 464.5}}, 'num_env_steps_sampled': 200000, 'num_env_steps_trained': 200000, 'num_agent_steps_sampled': 200000, 'num_agent_steps_trained': 200000}, 'sampler_results': {'episode_reward_max': 1000.0, 'episode_reward_min': 433.0, 'episode_reward_mean': 986.01, 'episode_len_mean': 986.01, 'episode_media': {}, 'episodes_this_iter': 5, 'policy_reward_min': {}, 'policy_reward_max': {}, 'policy_reward_mean': {}, 'custom_metrics': {}, 'hist_stats': {'episode_reward': [1000.0, 1000.0, 1000.0, 1000.0, 1000.0, 433.0, 1000.0, 1000.0, 1000.0, 1000.0, 1000.0, 1000.0, 1000.0, 1000.0, 1000.0, 1000.0, 1000.0, 1000.0, 1000.0, 1000.0, 1000.0, 1000.0, 1000.0, 1000.0, 1000.0, 1000.0, 1000.0, 1000.0, 1000.0, 1000.0, 1000.0, 1000.0, 1000.0, 1000.0, 1000.0, 1000.0, 1000.0, 1000.0, 1000.0, 1000.0, 1000.0, 1000.0, 1000.0, 1000.0, 1000.0, 1000.0, 1000.0, 1000.0, 1000.0, 1000.0, 1000.0, 1000.0, 1000.0, 1000.0, 1000.0, 1000.0, 1000.0, 1000.0, 1000.0, 1000.0, 1000.0, 1000.0, 652.0, 1000.0, 1000.0, 1000.0, 1000.0, 1000.0, 1000.0, 1000.0, 1000.0, 1000.0, 1000.0, 1000.0, 1000.0, 1000.0, 1000.0, 1000.0, 1000.0, 1000.0, 1000.0, 1000.0, 1000.0, 1000.0, 1000.0, 1000.0, 1000.0, 1000.0, 1000.0, 1000.0, 516.0, 1000.0, 1000.0, 1000.0, 1000.0, 1000.0, 1000.0, 1000.0, 1000.0, 1000.0], 'episode_lengths': [1000, 1000, 1000, 1000, 1000, 433, 1000, 1000, 1000, 1000, 1000, 1000, 1000, 1000, 1000, 1000, 1000, 1000, 1000, 1000, 1000, 1000, 1000, 1000, 1000, 1000, 1000, 1000, 1000, 1000, 1000, 1000, 1000, 1000, 1000, 1000, 1000, 1000, 1000, 1000, 1000, 1000, 1000, 1000, 1000, 1000, 1000, 1000, 1000, 1000, 1000, 1000, 1000, 1000, 1000, 1000, 1000, 1000, 1000, 1000, 1000, 1000, 652, 1000, 1000, 1000, 1000, 1000, 1000, 1000, 1000, 1000, 1000, 1000, 1000, 1000, 1000, 1000, 1000, 1000, 1000, 1000, 1000, 1000, 1000, 1000, 1000, 1000, 1000, 1000, 516, 1000, 1000, 1000, 1000, 1000, 1000, 1000, 1000, 1000]}, 'sampler_perf': {'mean_raw_obs_processing_ms': 0.1723045486893441, 'mean_inference_ms': 0.49765163906935383, 'mean_action_processing_ms': 0.09231205756461987, 'mean_env_wait_ms': 0.05119145226531757, 'mean_env_render_ms': 0.0}, 'num_faulty_episodes': 0, 'connector_metrics': {'ObsPreprocessorConnector_ms': 0.0035986900329589844, 'StateBufferConnector_ms': 0.0018749237060546875, 'ViewRequirementAgentConnector_ms': 0.055733680725097656}}, 'episode_reward_max': 1000.0, 'episode_reward_min': 433.0, 'episode_reward_mean': 986.01, 'episode_len_mean': 986.01, 'episodes_this_iter': 5, 'policy_reward_min': {}, 'policy_reward_max': {}, 'policy_reward_mean': {}, 'hist_stats': {'episode_reward': [1000.0, 1000.0, 1000.0, 1000.0, 1000.0, 433.0, 1000.0, 1000.0, 1000.0, 1000.0, 1000.0, 1000.0, 1000.0, 1000.0, 1000.0, 1000.0, 1000.0, 1000.0, 1000.0, 1000.0, 1000.0, 1000.0, 1000.0, 1000.0, 1000.0, 1000.0, 1000.0, 1000.0, 1000.0, 1000.0, 1000.0, 1000.0, 1000.0, 1000.0, 1000.0, 1000.0, 1000.0, 1000.0, 1000.0, 1000.0, 1000.0, 1000.0, 1000.0, 1000.0, 1000.0, 1000.0, 1000.0, 1000.0, 1000.0, 1000.0, 1000.0, 1000.0, 1000.0, 1000.0, 1000.0, 1000.0, 1000.0, 1000.0, 1000.0, 1000.0, 1000.0, 1000.0, 652.0, 1000.0, 1000.0, 1000.0, 1000.0, 1000.0, 1000.0, 1000.0, 1000.0, 1000.0, 1000.0, 1000.0, 1000.0, 1000.0, 1000.0, 1000.0, 1000.0, 1000.0, 1000.0, 1000.0, 1000.0, 1000.0, 1000.0, 1000.0, 1000.0, 1000.0, 1000.0, 1000.0, 516.0, 1000.0, 1000.0, 1000.0, 1000.0, 1000.0, 1000.0, 1000.0, 1000.0, 1000.0], 'episode_lengths': [1000, 1000, 1000, 1000, 1000, 433, 1000, 1000, 1000, 1000, 1000, 1000, 1000, 1000, 1000, 1000, 1000, 1000, 1000, 1000, 1000, 1000, 1000, 1000, 1000, 1000, 1000, 1000, 1000, 1000, 1000, 1000, 1000, 1000, 1000, 1000, 1000, 1000, 1000, 1000, 1000, 1000, 1000, 1000, 1000, 1000, 1000, 1000, 1000, 1000, 1000, 1000, 1000, 1000, 1000, 1000, 1000, 1000, 1000, 1000, 1000, 1000, 652, 1000, 1000, 1000, 1000, 1000, 1000, 1000, 1000, 1000, 1000, 1000, 1000, 1000, 1000, 1000, 1000, 1000, 1000, 1000, 1000, 1000, 1000, 1000, 1000, 1000, 1000, 1000, 516, 1000, 1000, 1000, 1000, 1000, 1000, 1000, 1000, 1000]}, 'sampler_perf': {'mean_raw_obs_processing_ms': 0.1723045486893441, 'mean_inference_ms': 0.49765163906935383, 'mean_action_processing_ms': 0.09231205756461987, 'mean_env_wait_ms': 0.05119145226531757, 'mean_env_render_ms': 0.0}, 'num_faulty_episodes': 0, 'connector_metrics': {'ObsPreprocessorConnector_ms': 0.0035986900329589844, 'StateBufferConnector_ms': 0.0018749237060546875, 'ViewRequirementAgentConnector_ms': 0.055733680725097656}, 'num_healthy_workers': 8, 'num_in_flight_async_reqs': 0, 'num_remote_worker_restarts': 0, 'num_agent_steps_sampled': 200000, 'num_agent_steps_trained': 200000, 'num_env_steps_sampled': 200000, 'num_env_steps_trained': 200000, 'num_env_steps_sampled_this_iter': 4000, 'num_env_steps_trained_this_iter': 4000, 'num_env_steps_sampled_throughput_per_sec': 1316.7778984457636, 'num_env_steps_trained_throughput_per_sec': 1316.7778984457636, 'num_steps_trained_this_iter': 4000, 'agent_timesteps_total': 200000, 'timers': {'training_iteration_time_ms': 3014.467, 'sample_time_ms': 496.452, 'load_time_ms': 0.304, 'load_throughput': 13142108.726, 'learn_time_ms': 2510.879, 'learn_throughput': 1593.067, 'synch_weights_time_ms': 6.041}, 'counters': {'num_env_steps_sampled': 200000, 'num_env_steps_trained': 200000, 'num_agent_steps_sampled': 200000, 'num_agent_steps_trained': 200000}, 'done': True, 'trial_id': '90e48_00000', 'perf': {'cpu_util_percent': 51.099999999999994, 'ram_util_percent': 71.42500000000001}, 'experiment_tag': '0'},\n",
       "    path='/Users/spacefarers/ray_results/PPO/PPO_InvertedPendulum-v4_90e48_00000_0_2023-08-11_23-55-59',\n",
       "    checkpoint=Checkpoint(local_path=/Users/spacefarers/ray_results/PPO/PPO_InvertedPendulum-v4_90e48_00000_0_2023-08-11_23-55-59/checkpoint_000050)\n",
       "  )\n",
       "]>"
      ]
     },
     "execution_count": 15,
     "metadata": {},
     "output_type": "execute_result"
    }
   ],
   "source": [
    "results = main()"
   ]
  },
  {
   "cell_type": "code",
   "execution_count": null,
   "metadata": {},
   "outputs": [],
   "source": [
    "# Get the best result\n",
    "r=results.get_best_result()\n",
    "\n",
    "# Get the best checkpoint\n",
    "cp=r.checkpoint"
   ]
  },
  {
   "cell_type": "code",
   "execution_count": 17,
   "metadata": {},
   "outputs": [
    {
     "name": "stderr",
     "output_type": "stream",
     "text": [
      "2023-08-12 00:01:09,444\tWARNING algorithm_config.py:643 -- Cannot create PPOConfig from given `config_dict`! Property __stdout_file__ not supported.\n",
      "2023-08-12 00:01:09,448\tINFO algorithm.py:536 -- Current log_level is WARN. For more information, set 'log_level': 'INFO' / 'DEBUG' or use the -v and -vv flags.\n",
      "2023-08-12 00:01:11,309\tINFO worker.py:1636 -- Started a local Ray instance.\n",
      "\u001b[2m\u001b[36m(RolloutWorker pid=59227)\u001b[0m /Users/spacefarers/mambaforge/envs/rl/lib/python3.10/site-packages/gymnasium/utils/passive_env_checker.py:233: DeprecationWarning: `np.bool8` is a deprecated alias for `np.bool_`.  (Deprecated NumPy 1.24)\n",
      "\u001b[2m\u001b[36m(RolloutWorker pid=59227)\u001b[0m   if not isinstance(terminated, (bool, np.bool8)):\n"
     ]
    }
   ],
   "source": [
    "from ray.rllib.algorithms.algorithm import Algorithm\n",
    "\n",
    "algo=Algorithm.from_checkpoint(cp)"
   ]
  },
  {
   "cell_type": "code",
   "execution_count": 26,
   "metadata": {},
   "outputs": [
    {
     "name": "stdout",
     "output_type": "stream",
     "text": [
      "[-0.00554944  0.00480566  0.00666359  0.00033744]\n",
      "[-0.09312105]\n",
      "[0.18475556]\n"
     ]
    },
    {
     "name": "stderr",
     "output_type": "stream",
     "text": [
      "/Users/spacefarers/mambaforge/envs/rl/lib/python3.10/site-packages/gymnasium/utils/passive_env_checker.py:233: DeprecationWarning: `np.bool8` is a deprecated alias for `np.bool_`.  (Deprecated NumPy 1.24)\n",
      "  if not isinstance(terminated, (bool, np.bool8)):\n"
     ]
    },
    {
     "name": "stdout",
     "output_type": "stream",
     "text": [
      "[1.1251249]\n",
      "[-3.]\n",
      "[3.]\n",
      "[-2.3875623]\n",
      "[2.9713182]\n",
      "[-3.]\n",
      "[3.]\n",
      "[-3.]\n",
      "[0.67960596]\n",
      "[1.2587986]\n",
      "[-2.1491108]\n",
      "[3.]\n",
      "[-2.4104638]\n",
      "[1.2387915]\n",
      "[-0.73907804]\n",
      "[1.3493633]\n",
      "[-1.9549251]\n",
      "[2.7799497]\n",
      "[-3.]\n",
      "[2.8383408]\n",
      "[-3.]\n",
      "[2.3665624]\n",
      "[-2.821508]\n",
      "[3.]\n",
      "[-3.]\n",
      "[3.]\n",
      "[-3.]\n",
      "[3.]\n",
      "[-1.9225649]\n",
      "[1.573844]\n",
      "[-2.1329708]\n",
      "[2.4514399]\n",
      "[-3.]\n",
      "[3.]\n",
      "[-1.1881506]\n",
      "[-1.2811904]\n",
      "[3.]\n",
      "[-3.]\n",
      "[2.6658864]\n",
      "[-3.]\n",
      "[2.7973828]\n",
      "[-2.6217477]\n",
      "[2.6803637]\n",
      "[-2.701475]\n",
      "[3.]\n",
      "[-3.]\n",
      "[3.]\n",
      "[-3.]\n",
      "[2.7514296]\n",
      "[-3.]\n",
      "[3.]\n",
      "[-2.045198]\n",
      "[0.7334151]\n",
      "[-2.2520266]\n",
      "[3.]\n",
      "[-1.8903923]\n",
      "[3.]\n",
      "[-3.]\n",
      "[3.]\n",
      "[-3.]\n",
      "[1.5697365]\n",
      "[-2.9003384]\n",
      "[3.]\n",
      "[-2.2192879]\n"
     ]
    },
    {
     "ename": "KeyboardInterrupt",
     "evalue": "",
     "output_type": "error",
     "traceback": [
      "\u001b[0;31m---------------------------------------------------------------------------\u001b[0m",
      "\u001b[0;31mKeyboardInterrupt\u001b[0m                         Traceback (most recent call last)",
      "Cell \u001b[0;32mIn[26], line 12\u001b[0m\n\u001b[1;32m     10\u001b[0m obs,reward,done,info,ads\u001b[39m=\u001b[39menv\u001b[39m.\u001b[39mstep(action)\n\u001b[1;32m     11\u001b[0m env\u001b[39m.\u001b[39mrender()\n\u001b[0;32m---> 12\u001b[0m time\u001b[39m.\u001b[39;49msleep(\u001b[39m0.1\u001b[39;49m)\n",
      "\u001b[0;31mKeyboardInterrupt\u001b[0m: "
     ]
    }
   ],
   "source": [
    "import time\n",
    "env=gym.make(\"InvertedPendulum-v4\")\n",
    "for episode in range(100):\n",
    "    obs,info = env.reset()\n",
    "    print(obs)\n",
    "    done = False\n",
    "    while not done:\n",
    "        action = algo.compute_single_action(obs)\n",
    "        print(action)\n",
    "        obs,reward,done,info,ads=env.step(action)\n",
    "        env.render()\n",
    "        time.sleep(0.1)"
   ]
  },
  {
   "cell_type": "code",
   "execution_count": null,
   "metadata": {},
   "outputs": [],
   "source": []
  },
  {
   "cell_type": "markdown",
   "metadata": {},
   "source": []
  }
 ],
 "metadata": {
  "kernelspec": {
   "display_name": "rl",
   "language": "python",
   "name": "python3"
  },
  "language_info": {
   "codemirror_mode": {
    "name": "ipython",
    "version": 3
   },
   "file_extension": ".py",
   "mimetype": "text/x-python",
   "name": "python",
   "nbconvert_exporter": "python",
   "pygments_lexer": "ipython3",
   "version": "3.10.0"
  },
  "orig_nbformat": 4
 },
 "nbformat": 4,
 "nbformat_minor": 2
}
